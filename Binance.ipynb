{
 "cells": [
  {
   "cell_type": "code",
   "execution_count": null,
   "metadata": {},
   "outputs": [],
   "source": [
    "import requests\n",
    "import json\n",
    "import pandas as pd\n",
    "import datetime\n",
    "from IPython.display import display, clear_output"
   ]
  },
  {
   "cell_type": "code",
   "execution_count": null,
   "metadata": {},
   "outputs": [],
   "source": [
    "url = 'https://data.binance.com/api/v3/klines'\n",
    "symbol = 'ETHUSDT'\n",
    "interval = '1h\n",
    "\n",
    "data = []\n",
    "STARTDATE = datetime.datetime(2022, 7, 1, tzinfo=datetime.timezone.utc)\n",
    "ENDDATE = datetime.datetime.utcnow().replace(hour = 0, minute = 0,second = 0,microsecond=0, tzinfo=datetime.timezone.utc) + datetime.timedelta(1)\n",
    "dates = pd.date_range(STARTDATE, ENDDATE, freq = '4H')\n",
    "for start, end in zip(dates[:-1], dates[1:]):\n",
    "    clear_output(wait=True)\n",
    "    display(f\"Start: {start.strftime('%Y-%m-%d %H:%M:%S')}, End: {end.strftime('%Y-%m-%d %H:%M:%S')}\")\n",
    "    par = {'symbol': symbol, 'interval': interval, 'startTime': str(int(start.timestamp()*1000)), 'endTime': str(int(end.timestamp()*1000))}\n",
    "    #retry if we cannot successfully fetch the data from start to end.\n",
    "    while True:\n",
    "      res = requests.get(url, params= par)\n",
    "      if res.status_code == 200:\n",
    "          data += json.loads(res.text)\n",
    "          break\n",
    "      else:\n",
    "          print(\"retry\")\n",
    "df = pd.DataFrame(data)\n",
    "#format columns name\n",
    "df.columns = ['datetime', 'open', 'high', 'low', 'close', 'volume','close_time', 'qav', 'num_trades','taker_base_vol', 'taker_quote_vol', 'ignore']\n",
    "df.index = [datetime.datetime.utcfromtimestamp(x/1000.0) for x in df.datetime]\n",
    "df=df.astype(float)\n",
    "df.drop_duplicates(inplace = True)\n",
    "df.sort_index(inplace = True)\n",
    "df['Datetime'] = df['datetime'].apply(lambda x: datetime.datetime.utcfromtimestamp(x/1000.0)).shift(-1)\n",
    "df['timestamp'] = df['datetime'].shift(-1)/1000\n",
    "df_summary = df[['Datetime', 'timestamp', 'close']].set_index('Datetime').head(-1)"
   ]
  }
 ],
 "metadata": {
  "kernelspec": {
   "display_name": "Python 3",
   "language": "python",
   "name": "python3"
  },
  "language_info": {
   "codemirror_mode": {
    "name": "ipython",
    "version": 3
   },
   "file_extension": ".py",
   "mimetype": "text/x-python",
   "name": "python",
   "nbconvert_exporter": "python",
   "pygments_lexer": "ipython3",
   "version": "3.10.4"
  },
  "orig_nbformat": 4
 },
 "nbformat": 4,
 "nbformat_minor": 2
}
