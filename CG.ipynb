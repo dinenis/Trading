{
 "cells": [
  {
   "cell_type": "code",
   "execution_count": 2,
   "metadata": {},
   "outputs": [
    {
     "ename": "KeyError",
     "evalue": "'Binance'",
     "output_type": "error",
     "traceback": [
      "\u001b[0;31m---------------------------------------------------------------------------\u001b[0m",
      "\u001b[0;31mKeyError\u001b[0m                                  Traceback (most recent call last)",
      "Cell \u001b[0;32mIn[2], line 21\u001b[0m\n\u001b[1;32m     18\u001b[0m df \u001b[39m=\u001b[39m pd\u001b[39m.\u001b[39mDataFrame()\n\u001b[1;32m     20\u001b[0m \u001b[39m# Iterate over the keys in the data map\u001b[39;00m\n\u001b[0;32m---> 21\u001b[0m \u001b[39mfor\u001b[39;00m key \u001b[39min\u001b[39;00m data[\u001b[39m\"\u001b[39;49m\u001b[39mBinance\u001b[39;49m\u001b[39m\"\u001b[39;49m]\u001b[39m.\u001b[39mkeys():\n\u001b[1;32m     22\u001b[0m     \u001b[39m# Create a new column in the dataframe with the key as the column name\u001b[39;00m\n\u001b[1;32m     23\u001b[0m     df[key] \u001b[39m=\u001b[39m data[\u001b[39m\"\u001b[39m\u001b[39mBinance\u001b[39m\u001b[39m\"\u001b[39m][key]\n\u001b[1;32m     25\u001b[0m \u001b[39m# Print the resulting dataframe\u001b[39;00m\n",
      "\u001b[0;31mKeyError\u001b[0m: 'Binance'"
     ]
    }
   ],
   "source": [
    "import pandas as pd\n",
    "import requests\n",
    "\n",
    "url = \"https://open-api.coinglass.com/public/v2/funding_usd_history?symbol=BTC&time_type=h8\"\n",
    "\n",
    "headers = {\n",
    "    \"accept\": \"application/json\",\n",
    "    \"coinglassSecret\": \"3a9f187b773843faba1af20333346c11\"\n",
    "}\n",
    "\n",
    "response = requests.get(url, headers=headers)\n",
    "\n",
    "# Check if the response was successful\n",
    "if response.status_code == 200:\n",
    "    data = response.json()\n",
    "\n",
    "    # Create an empty dataframe\n",
    "    df = pd.DataFrame()\n",
    "\n",
    "    # Iterate over the keys in the data map\n",
    "    for key in data[\"Binance\"].keys():\n",
    "        # Create a new column in the dataframe with the key as the column name\n",
    "        df[key] = data[\"Binance\"][key]\n",
    "\n",
    "    # Print the resulting dataframe\n",
    "    print(df)\n",
    "else:\n",
    "    print(\"Error: Unable to fetch data from the API.\")"
   ]
  }
 ],
 "metadata": {
  "kernelspec": {
   "display_name": "Python 3",
   "language": "python",
   "name": "python3"
  },
  "language_info": {
   "codemirror_mode": {
    "name": "ipython",
    "version": 3
   },
   "file_extension": ".py",
   "mimetype": "text/x-python",
   "name": "python",
   "nbconvert_exporter": "python",
   "pygments_lexer": "ipython3",
   "version": "3.10.4"
  },
  "orig_nbformat": 4
 },
 "nbformat": 4,
 "nbformat_minor": 2
}
