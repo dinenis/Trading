{
 "cells": [
  {
   "cell_type": "code",
   "execution_count": null,
   "metadata": {},
   "outputs": [],
   "source": [
    "import pandas as pd\n",
    "from binance.client import Client\n",
    "import datetime as dt\n",
    "# client configuration\n",
    "api_key = 'API HERE' \n",
    "api_secret = 'SECRET API HERE'\n",
    "client = Client(api_key, api_secret)"
   ]
  },
  {
   "cell_type": "code",
   "execution_count": null,
   "metadata": {},
   "outputs": [],
   "source": [
    "symbol = \"DOTUSDT\"\n",
    "interval=’15m’\n",
    "Client.KLINE_INTERVAL_15MINUTE \n",
    "klines = client.get_historical_klines(symbol, interval, \"1 Jan,2021\")\n",
    "data = pd.DataFrame(klines)\n",
    " # create colums name\n",
    "data.columns = ['open_time','open', 'high', 'low', 'close', 'volume','close_time', 'qav','num_trades','taker_base_vol',taker_quote_vol', 'ignore']\n",
    "            \n",
    "# change the timestamp\n",
    "data.index = [dt.datetime.fromtimestamp(x/1000.0) for x in data.close_time]\n",
    "data.to_csv(symbol+'.csv', index = None, header=True)\n",
    "#convert data to float and plot\n",
    "df=df.astype(float)\n",
    "df[\"close\"].plot(title = 'DOTUSDT', legend = 'close')\n"
   ]
  }
 ],
 "metadata": {
  "language_info": {
   "name": "python"
  },
  "orig_nbformat": 4
 },
 "nbformat": 4,
 "nbformat_minor": 2
}
