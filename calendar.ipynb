{
 "cells": [
  {
   "cell_type": "code",
   "execution_count": 2,
   "metadata": {},
   "outputs": [
    {
     "data": {
      "text/html": [
       "<div>\n",
       "<style scoped>\n",
       "    .dataframe tbody tr th:only-of-type {\n",
       "        vertical-align: middle;\n",
       "    }\n",
       "\n",
       "    .dataframe tbody tr th {\n",
       "        vertical-align: top;\n",
       "    }\n",
       "\n",
       "    .dataframe thead th {\n",
       "        text-align: right;\n",
       "    }\n",
       "</style>\n",
       "<table border=\"1\" class=\"dataframe\">\n",
       "  <thead>\n",
       "    <tr style=\"text-align: right;\">\n",
       "      <th></th>\n",
       "      <th>Id</th>\n",
       "      <th>Start</th>\n",
       "      <th>Name</th>\n",
       "      <th>Impact</th>\n",
       "      <th>Currency</th>\n",
       "    </tr>\n",
       "  </thead>\n",
       "  <tbody>\n",
       "    <tr>\n",
       "      <th>0</th>\n",
       "      <td>243ad711-1c9d-4f7a-a8a8-8c0598b7cc16</td>\n",
       "      <td>07/06/2022 18:00:00</td>\n",
       "      <td>FOMC Minutes</td>\n",
       "      <td>HIGH</td>\n",
       "      <td>USD</td>\n",
       "    </tr>\n",
       "    <tr>\n",
       "      <th>1</th>\n",
       "      <td>64437a80-946e-4546-86d1-db9052494f68</td>\n",
       "      <td>07/13/2022 12:30:00</td>\n",
       "      <td>Consumer Price Index ex Food &amp; Energy (MoM)</td>\n",
       "      <td>HIGH</td>\n",
       "      <td>USD</td>\n",
       "    </tr>\n",
       "    <tr>\n",
       "      <th>2</th>\n",
       "      <td>60a36a5a-7c03-41cb-bcc6-829c3996221b</td>\n",
       "      <td>07/13/2022 12:30:00</td>\n",
       "      <td>Consumer Price Index ex Food &amp; Energy (YoY)</td>\n",
       "      <td>HIGH</td>\n",
       "      <td>USD</td>\n",
       "    </tr>\n",
       "    <tr>\n",
       "      <th>3</th>\n",
       "      <td>8758cc99-0cff-4adc-af12-1e749fbc6fa0</td>\n",
       "      <td>07/27/2022 18:00:00</td>\n",
       "      <td>Fed Interest Rate Decision</td>\n",
       "      <td>HIGH</td>\n",
       "      <td>USD</td>\n",
       "    </tr>\n",
       "    <tr>\n",
       "      <th>4</th>\n",
       "      <td>671994d3-e6f5-4a02-ad5b-1637ba613830</td>\n",
       "      <td>07/27/2022 18:00:00</td>\n",
       "      <td>Fed's Monetary Policy Statement</td>\n",
       "      <td>HIGH</td>\n",
       "      <td>USD</td>\n",
       "    </tr>\n",
       "  </tbody>\n",
       "</table>\n",
       "</div>"
      ],
      "text/plain": [
       "                                     Id                Start   \n",
       "0  243ad711-1c9d-4f7a-a8a8-8c0598b7cc16  07/06/2022 18:00:00  \\\n",
       "1  64437a80-946e-4546-86d1-db9052494f68  07/13/2022 12:30:00   \n",
       "2  60a36a5a-7c03-41cb-bcc6-829c3996221b  07/13/2022 12:30:00   \n",
       "3  8758cc99-0cff-4adc-af12-1e749fbc6fa0  07/27/2022 18:00:00   \n",
       "4  671994d3-e6f5-4a02-ad5b-1637ba613830  07/27/2022 18:00:00   \n",
       "\n",
       "                                          Name Impact Currency  \n",
       "0                                 FOMC Minutes   HIGH      USD  \n",
       "1  Consumer Price Index ex Food & Energy (MoM)   HIGH      USD  \n",
       "2  Consumer Price Index ex Food & Energy (YoY)   HIGH      USD  \n",
       "3                   Fed Interest Rate Decision   HIGH      USD  \n",
       "4              Fed's Monetary Policy Statement   HIGH      USD  "
      ]
     },
     "execution_count": 2,
     "metadata": {},
     "output_type": "execute_result"
    }
   ],
   "source": [
    "import pandas as pd\n",
    "import numpy as np\n",
    "\n",
    "# Create a calendar\n",
    "calendar = pd.read_csv('/workspaces/Trading/calendar-event-list.csv')\n",
    "calendar.head()\n"
   ]
  }
 ],
 "metadata": {
  "kernelspec": {
   "display_name": "Python 3",
   "language": "python",
   "name": "python3"
  },
  "language_info": {
   "codemirror_mode": {
    "name": "ipython",
    "version": 3
   },
   "file_extension": ".py",
   "mimetype": "text/x-python",
   "name": "python",
   "nbconvert_exporter": "python",
   "pygments_lexer": "ipython3",
   "version": "3.10.4"
  },
  "orig_nbformat": 4
 },
 "nbformat": 4,
 "nbformat_minor": 2
}
