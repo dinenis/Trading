{
  "cells": [
    {
      "cell_type": "markdown",
      "metadata": {
        "id": "ifdEvFXXERaK"
      },
      "source": [
        "#Guide: https://python.plainenglish.io/how-to-download-trading-data-from-binance-with-python-21634af30195\n",
        "\n",
        "API access for https://api.binance.com/api/v3/klines does not work from the USA, but currently works https://data.binance.com/api/v3/klines\n",
        "The code might stop working on Google Colab when the code is a run on a US server."
      ]
    },
    {
      "cell_type": "code",
      "execution_count": 1,
      "metadata": {
        "id": "UquKMJ01EMav"
      },
      "outputs": [],
      "source": [
        "import requests\n",
        "import json\n",
        "import pandas as pd\n",
        "import datetime\n",
        "from IPython.display import display, clear_output\n",
        "\n",
        "#from google.colab import drive\n",
        "#drive.mount('/content/gdrive')"
      ]
    },
    {
      "cell_type": "code",
      "execution_count": 2,
      "metadata": {
        "id": "SV_ruR2-ETxg"
      },
      "outputs": [
        {
          "data": {
            "text/plain": [
              "'Start: 2018-09-16 16:00:00, End: 2018-09-16 20:00:00'"
            ]
          },
          "metadata": {},
          "output_type": "display_data"
        }
      ],
      "source": [
        "url = 'https://data.binance.com/api/v3/klines'\n",
        "symbol = 'ETHUSDT'\n",
        "interval = '1m'\n",
        "\n",
        "data = []\n",
        "STARTDATE = datetime.datetime(2017, 8, 17, tzinfo=datetime.timezone.utc)\n",
        "ENDDATE = datetime.datetime.utcnow().replace(hour = 0, minute = 0,second = 0,microsecond=0, tzinfo=datetime.timezone.utc) + datetime.timedelta(1)\n",
        "dates = pd.date_range(STARTDATE, ENDDATE, freq = '4H')\n",
        "for start, end in zip(dates[:-1], dates[1:]):\n",
        "    clear_output(wait=True)\n",
        "    display(f\"Start: {start.strftime('%Y-%m-%d %H:%M:%S')}, End: {end.strftime('%Y-%m-%d %H:%M:%S')}\")\n",
        "    par = {'symbol': symbol, 'interval': interval, 'startTime': str(int(start.timestamp()*1000)), 'endTime': str(int(end.timestamp()*1000))}\n",
        "    #retry if we cannot successfully fetch the data from start to end.\n",
        "    while True:\n",
        "      res = requests.get(url, params= par)\n",
        "      if res.status_code == 200:\n",
        "          data += json.loads(res.text)\n",
        "          break\n",
        "      else:\n",
        "          print(\"retry\")\n",
        "df = pd.DataFrame(data)\n",
        "#format columns name\n",
        "df.columns = ['datetime', 'open', 'high', 'low', 'close', 'volume','close_time', 'qav', 'num_trades','taker_base_vol', 'taker_quote_vol', 'ignore']\n",
        "df.index = [datetime.datetime.utcfromtimestamp(x/1000.0) for x in df.datetime]\n",
        "df=df.astype(float)\n",
        "df.drop_duplicates(inplace = True)\n",
        "df.sort_index(inplace = True)\n",
        "df['Datetime'] = df['datetime'].apply(lambda x: datetime.datetime.utcfromtimestamp(x/1000.0)).shift(-1)\n",
        "df['timestamp'] = df['datetime'].shift(-1)/1000\n",
        "df_summary = df[['Datetime', 'timestamp', 'close']].set_index('Datetime').head(-1)\n",
        "df_summary.to_pickle(f\"/workspaces/Trading/Binance_{symbol}_start_{df_summary.index[0].strftime('%Y%m%d_%H%M')}_end_{df_summary.index[-1].strftime('%Y%m%d_%H%M')}.pkl\")\n",
        "#df_summary.to_csv(f\"/content/gdrive/My Drive/Binance_{symbol}_start_{df_summary.index[0].strftime('%Y%m%d_%H%M')}_end_{df_summary.index[-1].strftime('%Y%m%d_%H%M')}.csv\")"
      ]
    },
    {
      "cell_type": "code",
      "execution_count": null,
      "metadata": {
        "id": "q_z9Cpt8Etrg"
      },
      "outputs": [],
      "source": [
        "url = 'https://data.binance.com/api/v3/klines'\n",
        "symbol = 'ETHUSDC'\n",
        "interval = '1m'\n",
        "\n",
        "data = []\n",
        "STARTDATE = datetime.datetime(2018, 12, 15, tzinfo=datetime.timezone.utc)\n",
        "ENDDATE = datetime.datetime.utcnow().replace(hour = 0, minute = 0,second = 0,microsecond=0, tzinfo=datetime.timezone.utc) + datetime.timedelta(1)\n",
        "dates = pd.date_range(STARTDATE, ENDDATE, freq = '4H')\n",
        "for start, end in zip(dates[:-1], dates[1:]):\n",
        "    clear_output(wait=True)\n",
        "    display(f\"Start: {start.strftime('%Y-%m-%d %H:%M:%S')}, End: {end.strftime('%Y-%m-%d %H:%M:%S')}\")\n",
        "    par = {'symbol': symbol, 'interval': interval, 'startTime': str(int(start.timestamp()*1000)), 'endTime': str(int(end.timestamp()*1000))}\n",
        "    #retry if we cannot successfully fetch the data from start to end.\n",
        "    while True:\n",
        "      res = requests.get(url, params= par)\n",
        "      if res.status_code == 200:\n",
        "          data += json.loads(res.text)\n",
        "          break\n",
        "      else:\n",
        "          print(\"retry\")\n",
        "\n",
        "df = pd.DataFrame(data)\n",
        "df.columns = ['datetime', 'open', 'high', 'low', 'close', 'volume','close_time', 'qav', 'num_trades','taker_base_vol', 'taker_quote_vol', 'ignore']\n",
        "df.index = [datetime.datetime.utcfromtimestamp(x/1000.0) for x in df.datetime]\n",
        "df=df.astype(float)\n",
        "df.drop_duplicates(inplace = True)\n",
        "df.sort_index(inplace = True)\n",
        "df['Datetime'] = df['datetime'].apply(lambda x: datetime.datetime.utcfromtimestamp(x/1000.0)).shift(-1)\n",
        "df['timestamp'] = df['datetime'].shift(-1)/1000\n",
        "df_summary = df[['Datetime', 'timestamp', 'close']].set_index('Datetime').head(-1)\n",
        "df_summary.to_pickle(f\"/content/gdrive/My Drive/Binance_{symbol}_start_{df_summary.index[0].strftime('%Y%m%d_%H%M')}_end_{df_summary.index[-1].strftime('%Y%m%d_%H%M')}.pkl\")\n",
        "#df_summary.to_csv(f\"/content/gdrive/My Drive/Binance_{symbol}_start_{df_summary.index[0].strftime('%Y%m%d_%H%M')}_end_{df_summary.index[-1].strftime('%Y%m%d_%H%M')}.csv\")"
      ]
    },
    {
      "cell_type": "code",
      "execution_count": null,
      "metadata": {
        "id": "Mtm3ya9lFeNZ"
      },
      "outputs": [],
      "source": [
        "url = 'https://data.binance.com/api/v3/klines'\n",
        "symbol = 'ETHBUSD'\n",
        "interval = '1m'\n",
        "\n",
        "data = []\n",
        "STARTDATE = datetime.datetime(2019, 10, 21, tzinfo=datetime.timezone.utc)\n",
        "ENDDATE = datetime.datetime.utcnow().replace(hour = 0, minute = 0,second = 0,microsecond=0, tzinfo=datetime.timezone.utc) + datetime.timedelta(1)\n",
        "dates = pd.date_range(STARTDATE, ENDDATE, freq = '4H')\n",
        "for start, end in zip(dates[:-1], dates[1:]):\n",
        "    clear_output(wait=True)\n",
        "    display(f\"Start: {start.strftime('%Y-%m-%d %H:%M:%S')}, End: {end.strftime('%Y-%m-%d %H:%M:%S')}\")\n",
        "    par = {'symbol': symbol, 'interval': interval, 'startTime': str(int(start.timestamp()*1000)), 'endTime': str(int(end.timestamp()*1000))}\n",
        "    #retry if we cannot successfully fetch the data from start to end.\n",
        "    while True:\n",
        "      res = requests.get(url, params= par)\n",
        "      if res.status_code == 200:\n",
        "          data += json.loads(res.text)\n",
        "          break\n",
        "      else:\n",
        "          print(\"retry\")\n",
        "\n",
        "df = pd.DataFrame(data)\n",
        "df.columns = ['datetime', 'open', 'high', 'low', 'close', 'volume','close_time', 'qav', 'num_trades','taker_base_vol', 'taker_quote_vol', 'ignore']\n",
        "df.index = [datetime.datetime.utcfromtimestamp(x/1000.0) for x in df.datetime]\n",
        "df=df.astype(float)\n",
        "df.drop_duplicates(inplace = True)\n",
        "df.sort_index(inplace = True)\n",
        "df['Datetime'] = df['datetime'].apply(lambda x: datetime.datetime.utcfromtimestamp(x/1000.0)).shift(-1)\n",
        "df['timestamp'] = df['datetime'].shift(-1)/1000\n",
        "df_summary = df[['Datetime', 'timestamp', 'close']].set_index('Datetime').head(-1)\n",
        "df_summary.to_pickle(f\"/content/gdrive/My Drive/Binance_{symbol}_start_{df_summary.index[0].strftime('%Y%m%d_%H%M')}_end_{df_summary.index[-1].strftime('%Y%m%d_%H%M')}.pkl\")\n",
        "#df_summary.to_csv(f\"/content/gdrive/My Drive/Binance_{symbol}_start_{df_summary.index[0].strftime('%Y%m%d_%H%M')}_end_{df_summary.index[-1].strftime('%Y%m%d_%H%M')}.csv\")"
      ]
    },
    {
      "cell_type": "code",
      "execution_count": null,
      "metadata": {
        "id": "sdDXI5h0wfIh"
      },
      "outputs": [],
      "source": []
    }
  ],
  "metadata": {
    "colab": {
      "provenance": []
    },
    "kernelspec": {
      "display_name": "Python 3",
      "name": "python3"
    },
    "language_info": {
      "codemirror_mode": {
        "name": "ipython",
        "version": 3
      },
      "file_extension": ".py",
      "mimetype": "text/x-python",
      "name": "python",
      "nbconvert_exporter": "python",
      "pygments_lexer": "ipython3",
      "version": "3.10.4"
    }
  },
  "nbformat": 4,
  "nbformat_minor": 0
}
