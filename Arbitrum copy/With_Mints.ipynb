{
  "cells": [
    {
      "cell_type": "code",
      "execution_count": 1,
      "metadata": {
        "id": "SUf0k99-hnCY"
      },
      "outputs": [],
      "source": [
        "from web3 import Web3\n",
        "import json\n",
        "import numpy as np\n",
        "from moralis import evm_api\n",
        "import datetime\n",
        "import pandas as pd\n",
        "import plotly.express as px"
      ]
    },
    {
      "cell_type": "code",
      "execution_count": 2,
      "metadata": {
        "id": "fZ1DW-7ShpVh"
      },
      "outputs": [],
      "source": [
        "decimals_USDC = 18\n",
        "decimals_WETH = 18\n",
        "tokenID = 689776"
      ]
    },
    {
      "cell_type": "code",
      "execution_count": 3,
      "metadata": {
        "id": "LbNbBZkrhryz"
      },
      "outputs": [],
      "source": [
        "NODE_PROVIDER = \"https://arb-mainnet.g.alchemy.com/v2/GVYfxTOkpoyWMDVy7DHs8xeGjy3JOx_b\"\n",
        "web3_connection = Web3(Web3.HTTPProvider(NODE_PROVIDER))\n",
        "NFT_POSITIONMANAGER_CONTRACT_ABI= '[{\"inputs\":[{\"internalType\":\"address\",\"name\":\"_factory\",\"type\":\"address\"},{\"internalType\":\"address\",\"name\":\"_WETH9\",\"type\":\"address\"},{\"internalType\":\"address\",\"name\":\"_tokenDescriptor_\",\"type\":\"address\"}],\"stateMutability\":\"nonpayable\",\"type\":\"constructor\"},{\"anonymous\":false,\"inputs\":[{\"indexed\":true,\"internalType\":\"address\",\"name\":\"owner\",\"type\":\"address\"},{\"indexed\":true,\"internalType\":\"address\",\"name\":\"approved\",\"type\":\"address\"},{\"indexed\":true,\"internalType\":\"uint256\",\"name\":\"tokenId\",\"type\":\"uint256\"}],\"name\":\"Approval\",\"type\":\"event\"},{\"anonymous\":false,\"inputs\":[{\"indexed\":true,\"internalType\":\"address\",\"name\":\"owner\",\"type\":\"address\"},{\"indexed\":true,\"internalType\":\"address\",\"name\":\"operator\",\"type\":\"address\"},{\"indexed\":false,\"internalType\":\"bool\",\"name\":\"approved\",\"type\":\"bool\"}],\"name\":\"ApprovalForAll\",\"type\":\"event\"},{\"anonymous\":false,\"inputs\":[{\"indexed\":true,\"internalType\":\"uint256\",\"name\":\"tokenId\",\"type\":\"uint256\"},{\"indexed\":false,\"internalType\":\"address\",\"name\":\"recipient\",\"type\":\"address\"},{\"indexed\":false,\"internalType\":\"uint256\",\"name\":\"amount0\",\"type\":\"uint256\"},{\"indexed\":false,\"internalType\":\"uint256\",\"name\":\"amount1\",\"type\":\"uint256\"}],\"name\":\"Collect\",\"type\":\"event\"},{\"anonymous\":false,\"inputs\":[{\"indexed\":true,\"internalType\":\"uint256\",\"name\":\"tokenId\",\"type\":\"uint256\"},{\"indexed\":false,\"internalType\":\"uint128\",\"name\":\"liquidity\",\"type\":\"uint128\"},{\"indexed\":false,\"internalType\":\"uint256\",\"name\":\"amount0\",\"type\":\"uint256\"},{\"indexed\":false,\"internalType\":\"uint256\",\"name\":\"amount1\",\"type\":\"uint256\"}],\"name\":\"DecreaseLiquidity\",\"type\":\"event\"},{\"anonymous\":false,\"inputs\":[{\"indexed\":true,\"internalType\":\"uint256\",\"name\":\"tokenId\",\"type\":\"uint256\"},{\"indexed\":false,\"internalType\":\"uint128\",\"name\":\"liquidity\",\"type\":\"uint128\"},{\"indexed\":false,\"internalType\":\"uint256\",\"name\":\"amount0\",\"type\":\"uint256\"},{\"indexed\":false,\"internalType\":\"uint256\",\"name\":\"amount1\",\"type\":\"uint256\"}],\"name\":\"IncreaseLiquidity\",\"type\":\"event\"},{\"anonymous\":false,\"inputs\":[{\"indexed\":true,\"internalType\":\"address\",\"name\":\"from\",\"type\":\"address\"},{\"indexed\":true,\"internalType\":\"address\",\"name\":\"to\",\"type\":\"address\"},{\"indexed\":true,\"internalType\":\"uint256\",\"name\":\"tokenId\",\"type\":\"uint256\"}],\"name\":\"Transfer\",\"type\":\"event\"},{\"inputs\":[],\"name\":\"DOMAIN_SEPARATOR\",\"outputs\":[{\"internalType\":\"bytes32\",\"name\":\"\",\"type\":\"bytes32\"}],\"stateMutability\":\"view\",\"type\":\"function\"},{\"inputs\":[],\"name\":\"PERMIT_TYPEHASH\",\"outputs\":[{\"internalType\":\"bytes32\",\"name\":\"\",\"type\":\"bytes32\"}],\"stateMutability\":\"view\",\"type\":\"function\"},{\"inputs\":[],\"name\":\"WETH9\",\"outputs\":[{\"internalType\":\"address\",\"name\":\"\",\"type\":\"address\"}],\"stateMutability\":\"view\",\"type\":\"function\"},{\"inputs\":[{\"internalType\":\"address\",\"name\":\"to\",\"type\":\"address\"},{\"internalType\":\"uint256\",\"name\":\"tokenId\",\"type\":\"uint256\"}],\"name\":\"approve\",\"outputs\":[],\"stateMutability\":\"nonpayable\",\"type\":\"function\"},{\"inputs\":[{\"internalType\":\"address\",\"name\":\"owner\",\"type\":\"address\"}],\"name\":\"balanceOf\",\"outputs\":[{\"internalType\":\"uint256\",\"name\":\"\",\"type\":\"uint256\"}],\"stateMutability\":\"view\",\"type\":\"function\"},{\"inputs\":[],\"name\":\"baseURI\",\"outputs\":[{\"internalType\":\"string\",\"name\":\"\",\"type\":\"string\"}],\"stateMutability\":\"pure\",\"type\":\"function\"},{\"inputs\":[{\"internalType\":\"uint256\",\"name\":\"tokenId\",\"type\":\"uint256\"}],\"name\":\"burn\",\"outputs\":[],\"stateMutability\":\"payable\",\"type\":\"function\"},{\"inputs\":[{\"components\":[{\"internalType\":\"uint256\",\"name\":\"tokenId\",\"type\":\"uint256\"},{\"internalType\":\"address\",\"name\":\"recipient\",\"type\":\"address\"},{\"internalType\":\"uint128\",\"name\":\"amount0Max\",\"type\":\"uint128\"},{\"internalType\":\"uint128\",\"name\":\"amount1Max\",\"type\":\"uint128\"}],\"internalType\":\"struct INonfungiblePositionManager.CollectParams\",\"name\":\"params\",\"type\":\"tuple\"}],\"name\":\"collect\",\"outputs\":[{\"internalType\":\"uint256\",\"name\":\"amount0\",\"type\":\"uint256\"},{\"internalType\":\"uint256\",\"name\":\"amount1\",\"type\":\"uint256\"}],\"stateMutability\":\"payable\",\"type\":\"function\"},{\"inputs\":[{\"internalType\":\"address\",\"name\":\"token0\",\"type\":\"address\"},{\"internalType\":\"address\",\"name\":\"token1\",\"type\":\"address\"},{\"internalType\":\"uint24\",\"name\":\"fee\",\"type\":\"uint24\"},{\"internalType\":\"uint160\",\"name\":\"sqrtPriceX96\",\"type\":\"uint160\"}],\"name\":\"createAndInitializePoolIfNecessary\",\"outputs\":[{\"internalType\":\"address\",\"name\":\"pool\",\"type\":\"address\"}],\"stateMutability\":\"payable\",\"type\":\"function\"},{\"inputs\":[{\"components\":[{\"internalType\":\"uint256\",\"name\":\"tokenId\",\"type\":\"uint256\"},{\"internalType\":\"uint128\",\"name\":\"liquidity\",\"type\":\"uint128\"},{\"internalType\":\"uint256\",\"name\":\"amount0Min\",\"type\":\"uint256\"},{\"internalType\":\"uint256\",\"name\":\"amount1Min\",\"type\":\"uint256\"},{\"internalType\":\"uint256\",\"name\":\"deadline\",\"type\":\"uint256\"}],\"internalType\":\"struct INonfungiblePositionManager.DecreaseLiquidityParams\",\"name\":\"params\",\"type\":\"tuple\"}],\"name\":\"decreaseLiquidity\",\"outputs\":[{\"internalType\":\"uint256\",\"name\":\"amount0\",\"type\":\"uint256\"},{\"internalType\":\"uint256\",\"name\":\"amount1\",\"type\":\"uint256\"}],\"stateMutability\":\"payable\",\"type\":\"function\"},{\"inputs\":[],\"name\":\"factory\",\"outputs\":[{\"internalType\":\"address\",\"name\":\"\",\"type\":\"address\"}],\"stateMutability\":\"view\",\"type\":\"function\"},{\"inputs\":[{\"internalType\":\"uint256\",\"name\":\"tokenId\",\"type\":\"uint256\"}],\"name\":\"getApproved\",\"outputs\":[{\"internalType\":\"address\",\"name\":\"\",\"type\":\"address\"}],\"stateMutability\":\"view\",\"type\":\"function\"},{\"inputs\":[{\"components\":[{\"internalType\":\"uint256\",\"name\":\"tokenId\",\"type\":\"uint256\"},{\"internalType\":\"uint256\",\"name\":\"amount0Desired\",\"type\":\"uint256\"},{\"internalType\":\"uint256\",\"name\":\"amount1Desired\",\"type\":\"uint256\"},{\"internalType\":\"uint256\",\"name\":\"amount0Min\",\"type\":\"uint256\"},{\"internalType\":\"uint256\",\"name\":\"amount1Min\",\"type\":\"uint256\"},{\"internalType\":\"uint256\",\"name\":\"deadline\",\"type\":\"uint256\"}],\"internalType\":\"struct INonfungiblePositionManager.IncreaseLiquidityParams\",\"name\":\"params\",\"type\":\"tuple\"}],\"name\":\"increaseLiquidity\",\"outputs\":[{\"internalType\":\"uint128\",\"name\":\"liquidity\",\"type\":\"uint128\"},{\"internalType\":\"uint256\",\"name\":\"amount0\",\"type\":\"uint256\"},{\"internalType\":\"uint256\",\"name\":\"amount1\",\"type\":\"uint256\"}],\"stateMutability\":\"payable\",\"type\":\"function\"},{\"inputs\":[{\"internalType\":\"address\",\"name\":\"owner\",\"type\":\"address\"},{\"internalType\":\"address\",\"name\":\"operator\",\"type\":\"address\"}],\"name\":\"isApprovedForAll\",\"outputs\":[{\"internalType\":\"bool\",\"name\":\"\",\"type\":\"bool\"}],\"stateMutability\":\"view\",\"type\":\"function\"},{\"inputs\":[{\"components\":[{\"internalType\":\"address\",\"name\":\"token0\",\"type\":\"address\"},{\"internalType\":\"address\",\"name\":\"token1\",\"type\":\"address\"},{\"internalType\":\"uint24\",\"name\":\"fee\",\"type\":\"uint24\"},{\"internalType\":\"int24\",\"name\":\"tickLower\",\"type\":\"int24\"},{\"internalType\":\"int24\",\"name\":\"tickUpper\",\"type\":\"int24\"},{\"internalType\":\"uint256\",\"name\":\"amount0Desired\",\"type\":\"uint256\"},{\"internalType\":\"uint256\",\"name\":\"amount1Desired\",\"type\":\"uint256\"},{\"internalType\":\"uint256\",\"name\":\"amount0Min\",\"type\":\"uint256\"},{\"internalType\":\"uint256\",\"name\":\"amount1Min\",\"type\":\"uint256\"},{\"internalType\":\"address\",\"name\":\"recipient\",\"type\":\"address\"},{\"internalType\":\"uint256\",\"name\":\"deadline\",\"type\":\"uint256\"}],\"internalType\":\"struct INonfungiblePositionManager.MintParams\",\"name\":\"params\",\"type\":\"tuple\"}],\"name\":\"mint\",\"outputs\":[{\"internalType\":\"uint256\",\"name\":\"tokenId\",\"type\":\"uint256\"},{\"internalType\":\"uint128\",\"name\":\"liquidity\",\"type\":\"uint128\"},{\"internalType\":\"uint256\",\"name\":\"amount0\",\"type\":\"uint256\"},{\"internalType\":\"uint256\",\"name\":\"amount1\",\"type\":\"uint256\"}],\"stateMutability\":\"payable\",\"type\":\"function\"},{\"inputs\":[{\"internalType\":\"bytes[]\",\"name\":\"data\",\"type\":\"bytes[]\"}],\"name\":\"multicall\",\"outputs\":[{\"internalType\":\"bytes[]\",\"name\":\"results\",\"type\":\"bytes[]\"}],\"stateMutability\":\"payable\",\"type\":\"function\"},{\"inputs\":[],\"name\":\"name\",\"outputs\":[{\"internalType\":\"string\",\"name\":\"\",\"type\":\"string\"}],\"stateMutability\":\"view\",\"type\":\"function\"},{\"inputs\":[{\"internalType\":\"uint256\",\"name\":\"tokenId\",\"type\":\"uint256\"}],\"name\":\"ownerOf\",\"outputs\":[{\"internalType\":\"address\",\"name\":\"\",\"type\":\"address\"}],\"stateMutability\":\"view\",\"type\":\"function\"},{\"inputs\":[{\"internalType\":\"address\",\"name\":\"spender\",\"type\":\"address\"},{\"internalType\":\"uint256\",\"name\":\"tokenId\",\"type\":\"uint256\"},{\"internalType\":\"uint256\",\"name\":\"deadline\",\"type\":\"uint256\"},{\"internalType\":\"uint8\",\"name\":\"v\",\"type\":\"uint8\"},{\"internalType\":\"bytes32\",\"name\":\"r\",\"type\":\"bytes32\"},{\"internalType\":\"bytes32\",\"name\":\"s\",\"type\":\"bytes32\"}],\"name\":\"permit\",\"outputs\":[],\"stateMutability\":\"payable\",\"type\":\"function\"},{\"inputs\":[{\"internalType\":\"uint256\",\"name\":\"tokenId\",\"type\":\"uint256\"}],\"name\":\"positions\",\"outputs\":[{\"internalType\":\"uint96\",\"name\":\"nonce\",\"type\":\"uint96\"},{\"internalType\":\"address\",\"name\":\"operator\",\"type\":\"address\"},{\"internalType\":\"address\",\"name\":\"token0\",\"type\":\"address\"},{\"internalType\":\"address\",\"name\":\"token1\",\"type\":\"address\"},{\"internalType\":\"uint24\",\"name\":\"fee\",\"type\":\"uint24\"},{\"internalType\":\"int24\",\"name\":\"tickLower\",\"type\":\"int24\"},{\"internalType\":\"int24\",\"name\":\"tickUpper\",\"type\":\"int24\"},{\"internalType\":\"uint128\",\"name\":\"liquidity\",\"type\":\"uint128\"},{\"internalType\":\"uint256\",\"name\":\"feeGrowthInside0LastX128\",\"type\":\"uint256\"},{\"internalType\":\"uint256\",\"name\":\"feeGrowthInside1LastX128\",\"type\":\"uint256\"},{\"internalType\":\"uint128\",\"name\":\"tokensOwed0\",\"type\":\"uint128\"},{\"internalType\":\"uint128\",\"name\":\"tokensOwed1\",\"type\":\"uint128\"}],\"stateMutability\":\"view\",\"type\":\"function\"},{\"inputs\":[],\"name\":\"refundETH\",\"outputs\":[],\"stateMutability\":\"payable\",\"type\":\"function\"},{\"inputs\":[{\"internalType\":\"address\",\"name\":\"from\",\"type\":\"address\"},{\"internalType\":\"address\",\"name\":\"to\",\"type\":\"address\"},{\"internalType\":\"uint256\",\"name\":\"tokenId\",\"type\":\"uint256\"}],\"name\":\"safeTransferFrom\",\"outputs\":[],\"stateMutability\":\"nonpayable\",\"type\":\"function\"},{\"inputs\":[{\"internalType\":\"address\",\"name\":\"from\",\"type\":\"address\"},{\"internalType\":\"address\",\"name\":\"to\",\"type\":\"address\"},{\"internalType\":\"uint256\",\"name\":\"tokenId\",\"type\":\"uint256\"},{\"internalType\":\"bytes\",\"name\":\"_data\",\"type\":\"bytes\"}],\"name\":\"safeTransferFrom\",\"outputs\":[],\"stateMutability\":\"nonpayable\",\"type\":\"function\"},{\"inputs\":[{\"internalType\":\"address\",\"name\":\"token\",\"type\":\"address\"},{\"internalType\":\"uint256\",\"name\":\"value\",\"type\":\"uint256\"},{\"internalType\":\"uint256\",\"name\":\"deadline\",\"type\":\"uint256\"},{\"internalType\":\"uint8\",\"name\":\"v\",\"type\":\"uint8\"},{\"internalType\":\"bytes32\",\"name\":\"r\",\"type\":\"bytes32\"},{\"internalType\":\"bytes32\",\"name\":\"s\",\"type\":\"bytes32\"}],\"name\":\"selfPermit\",\"outputs\":[],\"stateMutability\":\"payable\",\"type\":\"function\"},{\"inputs\":[{\"internalType\":\"address\",\"name\":\"token\",\"type\":\"address\"},{\"internalType\":\"uint256\",\"name\":\"nonce\",\"type\":\"uint256\"},{\"internalType\":\"uint256\",\"name\":\"expiry\",\"type\":\"uint256\"},{\"internalType\":\"uint8\",\"name\":\"v\",\"type\":\"uint8\"},{\"internalType\":\"bytes32\",\"name\":\"r\",\"type\":\"bytes32\"},{\"internalType\":\"bytes32\",\"name\":\"s\",\"type\":\"bytes32\"}],\"name\":\"selfPermitAllowed\",\"outputs\":[],\"stateMutability\":\"payable\",\"type\":\"function\"},{\"inputs\":[{\"internalType\":\"address\",\"name\":\"token\",\"type\":\"address\"},{\"internalType\":\"uint256\",\"name\":\"nonce\",\"type\":\"uint256\"},{\"internalType\":\"uint256\",\"name\":\"expiry\",\"type\":\"uint256\"},{\"internalType\":\"uint8\",\"name\":\"v\",\"type\":\"uint8\"},{\"internalType\":\"bytes32\",\"name\":\"r\",\"type\":\"bytes32\"},{\"internalType\":\"bytes32\",\"name\":\"s\",\"type\":\"bytes32\"}],\"name\":\"selfPermitAllowedIfNecessary\",\"outputs\":[],\"stateMutability\":\"payable\",\"type\":\"function\"},{\"inputs\":[{\"internalType\":\"address\",\"name\":\"token\",\"type\":\"address\"},{\"internalType\":\"uint256\",\"name\":\"value\",\"type\":\"uint256\"},{\"internalType\":\"uint256\",\"name\":\"deadline\",\"type\":\"uint256\"},{\"internalType\":\"uint8\",\"name\":\"v\",\"type\":\"uint8\"},{\"internalType\":\"bytes32\",\"name\":\"r\",\"type\":\"bytes32\"},{\"internalType\":\"bytes32\",\"name\":\"s\",\"type\":\"bytes32\"}],\"name\":\"selfPermitIfNecessary\",\"outputs\":[],\"stateMutability\":\"payable\",\"type\":\"function\"},{\"inputs\":[{\"internalType\":\"address\",\"name\":\"operator\",\"type\":\"address\"},{\"internalType\":\"bool\",\"name\":\"approved\",\"type\":\"bool\"}],\"name\":\"setApprovalForAll\",\"outputs\":[],\"stateMutability\":\"nonpayable\",\"type\":\"function\"},{\"inputs\":[{\"internalType\":\"bytes4\",\"name\":\"interfaceId\",\"type\":\"bytes4\"}],\"name\":\"supportsInterface\",\"outputs\":[{\"internalType\":\"bool\",\"name\":\"\",\"type\":\"bool\"}],\"stateMutability\":\"view\",\"type\":\"function\"},{\"inputs\":[{\"internalType\":\"address\",\"name\":\"token\",\"type\":\"address\"},{\"internalType\":\"uint256\",\"name\":\"amountMinimum\",\"type\":\"uint256\"},{\"internalType\":\"address\",\"name\":\"recipient\",\"type\":\"address\"}],\"name\":\"sweepToken\",\"outputs\":[],\"stateMutability\":\"payable\",\"type\":\"function\"},{\"inputs\":[],\"name\":\"symbol\",\"outputs\":[{\"internalType\":\"string\",\"name\":\"\",\"type\":\"string\"}],\"stateMutability\":\"view\",\"type\":\"function\"},{\"inputs\":[{\"internalType\":\"uint256\",\"name\":\"index\",\"type\":\"uint256\"}],\"name\":\"tokenByIndex\",\"outputs\":[{\"internalType\":\"uint256\",\"name\":\"\",\"type\":\"uint256\"}],\"stateMutability\":\"view\",\"type\":\"function\"},{\"inputs\":[{\"internalType\":\"address\",\"name\":\"owner\",\"type\":\"address\"},{\"internalType\":\"uint256\",\"name\":\"index\",\"type\":\"uint256\"}],\"name\":\"tokenOfOwnerByIndex\",\"outputs\":[{\"internalType\":\"uint256\",\"name\":\"\",\"type\":\"uint256\"}],\"stateMutability\":\"view\",\"type\":\"function\"},{\"inputs\":[{\"internalType\":\"uint256\",\"name\":\"tokenId\",\"type\":\"uint256\"}],\"name\":\"tokenURI\",\"outputs\":[{\"internalType\":\"string\",\"name\":\"\",\"type\":\"string\"}],\"stateMutability\":\"view\",\"type\":\"function\"},{\"inputs\":[],\"name\":\"totalSupply\",\"outputs\":[{\"internalType\":\"uint256\",\"name\":\"\",\"type\":\"uint256\"}],\"stateMutability\":\"view\",\"type\":\"function\"},{\"inputs\":[{\"internalType\":\"address\",\"name\":\"from\",\"type\":\"address\"},{\"internalType\":\"address\",\"name\":\"to\",\"type\":\"address\"},{\"internalType\":\"uint256\",\"name\":\"tokenId\",\"type\":\"uint256\"}],\"name\":\"transferFrom\",\"outputs\":[],\"stateMutability\":\"nonpayable\",\"type\":\"function\"},{\"inputs\":[{\"internalType\":\"uint256\",\"name\":\"amount0Owed\",\"type\":\"uint256\"},{\"internalType\":\"uint256\",\"name\":\"amount1Owed\",\"type\":\"uint256\"},{\"internalType\":\"bytes\",\"name\":\"data\",\"type\":\"bytes\"}],\"name\":\"uniswapV3MintCallback\",\"outputs\":[],\"stateMutability\":\"nonpayable\",\"type\":\"function\"},{\"inputs\":[{\"internalType\":\"uint256\",\"name\":\"amountMinimum\",\"type\":\"uint256\"},{\"internalType\":\"address\",\"name\":\"recipient\",\"type\":\"address\"}],\"name\":\"unwrapWETH9\",\"outputs\":[],\"stateMutability\":\"payable\",\"type\":\"function\"},{\"stateMutability\":\"payable\",\"type\":\"receive\"}]'\n",
        "NFT_POSITIONMANAGER_CONTRACT_ADDRESS = '0xC36442b4a4522E871399CD717aBDD847Ab11FE88'\n",
        "NFT_POSITIONMANAGER_contract_abi = json.loads(NFT_POSITIONMANAGER_CONTRACT_ABI)\n",
        "NFT_POSITIONMANAGER_contract = web3_connection.eth.contract(address=NFT_POSITIONMANAGER_CONTRACT_ADDRESS, abi=NFT_POSITIONMANAGER_contract_abi)"
      ]
    },
    {
      "cell_type": "code",
      "execution_count": 4,
      "metadata": {
        "id": "23Bfi1lihtOG"
      },
      "outputs": [],
      "source": [
        "UNIV3_USDC_WETH_CONTRACT_ABI = '[{\"inputs\":[],\"stateMutability\":\"nonpayable\",\"type\":\"constructor\"},{\"anonymous\":false,\"inputs\":[{\"indexed\":true,\"internalType\":\"address\",\"name\":\"owner\",\"type\":\"address\"},{\"indexed\":true,\"internalType\":\"int24\",\"name\":\"tickLower\",\"type\":\"int24\"},{\"indexed\":true,\"internalType\":\"int24\",\"name\":\"tickUpper\",\"type\":\"int24\"},{\"indexed\":false,\"internalType\":\"uint128\",\"name\":\"amount\",\"type\":\"uint128\"},{\"indexed\":false,\"internalType\":\"uint256\",\"name\":\"amount0\",\"type\":\"uint256\"},{\"indexed\":false,\"internalType\":\"uint256\",\"name\":\"amount1\",\"type\":\"uint256\"}],\"name\":\"Burn\",\"type\":\"event\"},{\"anonymous\":false,\"inputs\":[{\"indexed\":true,\"internalType\":\"address\",\"name\":\"owner\",\"type\":\"address\"},{\"indexed\":false,\"internalType\":\"address\",\"name\":\"recipient\",\"type\":\"address\"},{\"indexed\":true,\"internalType\":\"int24\",\"name\":\"tickLower\",\"type\":\"int24\"},{\"indexed\":true,\"internalType\":\"int24\",\"name\":\"tickUpper\",\"type\":\"int24\"},{\"indexed\":false,\"internalType\":\"uint128\",\"name\":\"amount0\",\"type\":\"uint128\"},{\"indexed\":false,\"internalType\":\"uint128\",\"name\":\"amount1\",\"type\":\"uint128\"}],\"name\":\"Collect\",\"type\":\"event\"},{\"anonymous\":false,\"inputs\":[{\"indexed\":true,\"internalType\":\"address\",\"name\":\"sender\",\"type\":\"address\"},{\"indexed\":true,\"internalType\":\"address\",\"name\":\"recipient\",\"type\":\"address\"},{\"indexed\":false,\"internalType\":\"uint128\",\"name\":\"amount0\",\"type\":\"uint128\"},{\"indexed\":false,\"internalType\":\"uint128\",\"name\":\"amount1\",\"type\":\"uint128\"}],\"name\":\"CollectProtocol\",\"type\":\"event\"},{\"anonymous\":false,\"inputs\":[{\"indexed\":true,\"internalType\":\"address\",\"name\":\"sender\",\"type\":\"address\"},{\"indexed\":true,\"internalType\":\"address\",\"name\":\"recipient\",\"type\":\"address\"},{\"indexed\":false,\"internalType\":\"uint256\",\"name\":\"amount0\",\"type\":\"uint256\"},{\"indexed\":false,\"internalType\":\"uint256\",\"name\":\"amount1\",\"type\":\"uint256\"},{\"indexed\":false,\"internalType\":\"uint256\",\"name\":\"paid0\",\"type\":\"uint256\"},{\"indexed\":false,\"internalType\":\"uint256\",\"name\":\"paid1\",\"type\":\"uint256\"}],\"name\":\"Flash\",\"type\":\"event\"},{\"anonymous\":false,\"inputs\":[{\"indexed\":false,\"internalType\":\"uint16\",\"name\":\"observationCardinalityNextOld\",\"type\":\"uint16\"},{\"indexed\":false,\"internalType\":\"uint16\",\"name\":\"observationCardinalityNextNew\",\"type\":\"uint16\"}],\"name\":\"IncreaseObservationCardinalityNext\",\"type\":\"event\"},{\"anonymous\":false,\"inputs\":[{\"indexed\":false,\"internalType\":\"uint160\",\"name\":\"sqrtPriceX96\",\"type\":\"uint160\"},{\"indexed\":false,\"internalType\":\"int24\",\"name\":\"tick\",\"type\":\"int24\"}],\"name\":\"Initialize\",\"type\":\"event\"},{\"anonymous\":false,\"inputs\":[{\"indexed\":false,\"internalType\":\"address\",\"name\":\"sender\",\"type\":\"address\"},{\"indexed\":true,\"internalType\":\"address\",\"name\":\"owner\",\"type\":\"address\"},{\"indexed\":true,\"internalType\":\"int24\",\"name\":\"tickLower\",\"type\":\"int24\"},{\"indexed\":true,\"internalType\":\"int24\",\"name\":\"tickUpper\",\"type\":\"int24\"},{\"indexed\":false,\"internalType\":\"uint128\",\"name\":\"amount\",\"type\":\"uint128\"},{\"indexed\":false,\"internalType\":\"uint256\",\"name\":\"amount0\",\"type\":\"uint256\"},{\"indexed\":false,\"internalType\":\"uint256\",\"name\":\"amount1\",\"type\":\"uint256\"}],\"name\":\"Mint\",\"type\":\"event\"},{\"anonymous\":false,\"inputs\":[{\"indexed\":false,\"internalType\":\"uint8\",\"name\":\"feeProtocol0Old\",\"type\":\"uint8\"},{\"indexed\":false,\"internalType\":\"uint8\",\"name\":\"feeProtocol1Old\",\"type\":\"uint8\"},{\"indexed\":false,\"internalType\":\"uint8\",\"name\":\"feeProtocol0New\",\"type\":\"uint8\"},{\"indexed\":false,\"internalType\":\"uint8\",\"name\":\"feeProtocol1New\",\"type\":\"uint8\"}],\"name\":\"SetFeeProtocol\",\"type\":\"event\"},{\"anonymous\":false,\"inputs\":[{\"indexed\":true,\"internalType\":\"address\",\"name\":\"sender\",\"type\":\"address\"},{\"indexed\":true,\"internalType\":\"address\",\"name\":\"recipient\",\"type\":\"address\"},{\"indexed\":false,\"internalType\":\"int256\",\"name\":\"amount0\",\"type\":\"int256\"},{\"indexed\":false,\"internalType\":\"int256\",\"name\":\"amount1\",\"type\":\"int256\"},{\"indexed\":false,\"internalType\":\"uint160\",\"name\":\"sqrtPriceX96\",\"type\":\"uint160\"},{\"indexed\":false,\"internalType\":\"uint128\",\"name\":\"liquidity\",\"type\":\"uint128\"},{\"indexed\":false,\"internalType\":\"int24\",\"name\":\"tick\",\"type\":\"int24\"}],\"name\":\"Swap\",\"type\":\"event\"},{\"inputs\":[{\"internalType\":\"int24\",\"name\":\"tickLower\",\"type\":\"int24\"},{\"internalType\":\"int24\",\"name\":\"tickUpper\",\"type\":\"int24\"},{\"internalType\":\"uint128\",\"name\":\"amount\",\"type\":\"uint128\"}],\"name\":\"burn\",\"outputs\":[{\"internalType\":\"uint256\",\"name\":\"amount0\",\"type\":\"uint256\"},{\"internalType\":\"uint256\",\"name\":\"amount1\",\"type\":\"uint256\"}],\"stateMutability\":\"nonpayable\",\"type\":\"function\"},{\"inputs\":[{\"internalType\":\"address\",\"name\":\"recipient\",\"type\":\"address\"},{\"internalType\":\"int24\",\"name\":\"tickLower\",\"type\":\"int24\"},{\"internalType\":\"int24\",\"name\":\"tickUpper\",\"type\":\"int24\"},{\"internalType\":\"uint128\",\"name\":\"amount0Requested\",\"type\":\"uint128\"},{\"internalType\":\"uint128\",\"name\":\"amount1Requested\",\"type\":\"uint128\"}],\"name\":\"collect\",\"outputs\":[{\"internalType\":\"uint128\",\"name\":\"amount0\",\"type\":\"uint128\"},{\"internalType\":\"uint128\",\"name\":\"amount1\",\"type\":\"uint128\"}],\"stateMutability\":\"nonpayable\",\"type\":\"function\"},{\"inputs\":[{\"internalType\":\"address\",\"name\":\"recipient\",\"type\":\"address\"},{\"internalType\":\"uint128\",\"name\":\"amount0Requested\",\"type\":\"uint128\"},{\"internalType\":\"uint128\",\"name\":\"amount1Requested\",\"type\":\"uint128\"}],\"name\":\"collectProtocol\",\"outputs\":[{\"internalType\":\"uint128\",\"name\":\"amount0\",\"type\":\"uint128\"},{\"internalType\":\"uint128\",\"name\":\"amount1\",\"type\":\"uint128\"}],\"stateMutability\":\"nonpayable\",\"type\":\"function\"},{\"inputs\":[],\"name\":\"factory\",\"outputs\":[{\"internalType\":\"address\",\"name\":\"\",\"type\":\"address\"}],\"stateMutability\":\"view\",\"type\":\"function\"},{\"inputs\":[],\"name\":\"fee\",\"outputs\":[{\"internalType\":\"uint24\",\"name\":\"\",\"type\":\"uint24\"}],\"stateMutability\":\"view\",\"type\":\"function\"},{\"inputs\":[],\"name\":\"feeGrowthGlobal0X128\",\"outputs\":[{\"internalType\":\"uint256\",\"name\":\"\",\"type\":\"uint256\"}],\"stateMutability\":\"view\",\"type\":\"function\"},{\"inputs\":[],\"name\":\"feeGrowthGlobal1X128\",\"outputs\":[{\"internalType\":\"uint256\",\"name\":\"\",\"type\":\"uint256\"}],\"stateMutability\":\"view\",\"type\":\"function\"},{\"inputs\":[{\"internalType\":\"address\",\"name\":\"recipient\",\"type\":\"address\"},{\"internalType\":\"uint256\",\"name\":\"amount0\",\"type\":\"uint256\"},{\"internalType\":\"uint256\",\"name\":\"amount1\",\"type\":\"uint256\"},{\"internalType\":\"bytes\",\"name\":\"data\",\"type\":\"bytes\"}],\"name\":\"flash\",\"outputs\":[],\"stateMutability\":\"nonpayable\",\"type\":\"function\"},{\"inputs\":[{\"internalType\":\"uint16\",\"name\":\"observationCardinalityNext\",\"type\":\"uint16\"}],\"name\":\"increaseObservationCardinalityNext\",\"outputs\":[],\"stateMutability\":\"nonpayable\",\"type\":\"function\"},{\"inputs\":[{\"internalType\":\"uint160\",\"name\":\"sqrtPriceX96\",\"type\":\"uint160\"}],\"name\":\"initialize\",\"outputs\":[],\"stateMutability\":\"nonpayable\",\"type\":\"function\"},{\"inputs\":[],\"name\":\"liquidity\",\"outputs\":[{\"internalType\":\"uint128\",\"name\":\"\",\"type\":\"uint128\"}],\"stateMutability\":\"view\",\"type\":\"function\"},{\"inputs\":[],\"name\":\"maxLiquidityPerTick\",\"outputs\":[{\"internalType\":\"uint128\",\"name\":\"\",\"type\":\"uint128\"}],\"stateMutability\":\"view\",\"type\":\"function\"},{\"inputs\":[{\"internalType\":\"address\",\"name\":\"recipient\",\"type\":\"address\"},{\"internalType\":\"int24\",\"name\":\"tickLower\",\"type\":\"int24\"},{\"internalType\":\"int24\",\"name\":\"tickUpper\",\"type\":\"int24\"},{\"internalType\":\"uint128\",\"name\":\"amount\",\"type\":\"uint128\"},{\"internalType\":\"bytes\",\"name\":\"data\",\"type\":\"bytes\"}],\"name\":\"mint\",\"outputs\":[{\"internalType\":\"uint256\",\"name\":\"amount0\",\"type\":\"uint256\"},{\"internalType\":\"uint256\",\"name\":\"amount1\",\"type\":\"uint256\"}],\"stateMutability\":\"nonpayable\",\"type\":\"function\"},{\"inputs\":[{\"internalType\":\"uint256\",\"name\":\"\",\"type\":\"uint256\"}],\"name\":\"observations\",\"outputs\":[{\"internalType\":\"uint32\",\"name\":\"blockTimestamp\",\"type\":\"uint32\"},{\"internalType\":\"int56\",\"name\":\"tickCumulative\",\"type\":\"int56\"},{\"internalType\":\"uint160\",\"name\":\"secondsPerLiquidityCumulativeX128\",\"type\":\"uint160\"},{\"internalType\":\"bool\",\"name\":\"initialized\",\"type\":\"bool\"}],\"stateMutability\":\"view\",\"type\":\"function\"},{\"inputs\":[{\"internalType\":\"uint32[]\",\"name\":\"secondsAgos\",\"type\":\"uint32[]\"}],\"name\":\"observe\",\"outputs\":[{\"internalType\":\"int56[]\",\"name\":\"tickCumulatives\",\"type\":\"int56[]\"},{\"internalType\":\"uint160[]\",\"name\":\"secondsPerLiquidityCumulativeX128s\",\"type\":\"uint160[]\"}],\"stateMutability\":\"view\",\"type\":\"function\"},{\"inputs\":[{\"internalType\":\"bytes32\",\"name\":\"\",\"type\":\"bytes32\"}],\"name\":\"positions\",\"outputs\":[{\"internalType\":\"uint128\",\"name\":\"liquidity\",\"type\":\"uint128\"},{\"internalType\":\"uint256\",\"name\":\"feeGrowthInside0LastX128\",\"type\":\"uint256\"},{\"internalType\":\"uint256\",\"name\":\"feeGrowthInside1LastX128\",\"type\":\"uint256\"},{\"internalType\":\"uint128\",\"name\":\"tokensOwed0\",\"type\":\"uint128\"},{\"internalType\":\"uint128\",\"name\":\"tokensOwed1\",\"type\":\"uint128\"}],\"stateMutability\":\"view\",\"type\":\"function\"},{\"inputs\":[],\"name\":\"protocolFees\",\"outputs\":[{\"internalType\":\"uint128\",\"name\":\"token0\",\"type\":\"uint128\"},{\"internalType\":\"uint128\",\"name\":\"token1\",\"type\":\"uint128\"}],\"stateMutability\":\"view\",\"type\":\"function\"},{\"inputs\":[{\"internalType\":\"uint8\",\"name\":\"feeProtocol0\",\"type\":\"uint8\"},{\"internalType\":\"uint8\",\"name\":\"feeProtocol1\",\"type\":\"uint8\"}],\"name\":\"setFeeProtocol\",\"outputs\":[],\"stateMutability\":\"nonpayable\",\"type\":\"function\"},{\"inputs\":[],\"name\":\"slot0\",\"outputs\":[{\"internalType\":\"uint160\",\"name\":\"sqrtPriceX96\",\"type\":\"uint160\"},{\"internalType\":\"int24\",\"name\":\"tick\",\"type\":\"int24\"},{\"internalType\":\"uint16\",\"name\":\"observationIndex\",\"type\":\"uint16\"},{\"internalType\":\"uint16\",\"name\":\"observationCardinality\",\"type\":\"uint16\"},{\"internalType\":\"uint16\",\"name\":\"observationCardinalityNext\",\"type\":\"uint16\"},{\"internalType\":\"uint8\",\"name\":\"feeProtocol\",\"type\":\"uint8\"},{\"internalType\":\"bool\",\"name\":\"unlocked\",\"type\":\"bool\"}],\"stateMutability\":\"view\",\"type\":\"function\"},{\"inputs\":[{\"internalType\":\"int24\",\"name\":\"tickLower\",\"type\":\"int24\"},{\"internalType\":\"int24\",\"name\":\"tickUpper\",\"type\":\"int24\"}],\"name\":\"snapshotCumulativesInside\",\"outputs\":[{\"internalType\":\"int56\",\"name\":\"tickCumulativeInside\",\"type\":\"int56\"},{\"internalType\":\"uint160\",\"name\":\"secondsPerLiquidityInsideX128\",\"type\":\"uint160\"},{\"internalType\":\"uint32\",\"name\":\"secondsInside\",\"type\":\"uint32\"}],\"stateMutability\":\"view\",\"type\":\"function\"},{\"inputs\":[{\"internalType\":\"address\",\"name\":\"recipient\",\"type\":\"address\"},{\"internalType\":\"bool\",\"name\":\"zeroForOne\",\"type\":\"bool\"},{\"internalType\":\"int256\",\"name\":\"amountSpecified\",\"type\":\"int256\"},{\"internalType\":\"uint160\",\"name\":\"sqrtPriceLimitX96\",\"type\":\"uint160\"},{\"internalType\":\"bytes\",\"name\":\"data\",\"type\":\"bytes\"}],\"name\":\"swap\",\"outputs\":[{\"internalType\":\"int256\",\"name\":\"amount0\",\"type\":\"int256\"},{\"internalType\":\"int256\",\"name\":\"amount1\",\"type\":\"int256\"}],\"stateMutability\":\"nonpayable\",\"type\":\"function\"},{\"inputs\":[{\"internalType\":\"int16\",\"name\":\"\",\"type\":\"int16\"}],\"name\":\"tickBitmap\",\"outputs\":[{\"internalType\":\"uint256\",\"name\":\"\",\"type\":\"uint256\"}],\"stateMutability\":\"view\",\"type\":\"function\"},{\"inputs\":[],\"name\":\"tickSpacing\",\"outputs\":[{\"internalType\":\"int24\",\"name\":\"\",\"type\":\"int24\"}],\"stateMutability\":\"view\",\"type\":\"function\"},{\"inputs\":[{\"internalType\":\"int24\",\"name\":\"\",\"type\":\"int24\"}],\"name\":\"ticks\",\"outputs\":[{\"internalType\":\"uint128\",\"name\":\"liquidityGross\",\"type\":\"uint128\"},{\"internalType\":\"int128\",\"name\":\"liquidityNet\",\"type\":\"int128\"},{\"internalType\":\"uint256\",\"name\":\"feeGrowthOutside0X128\",\"type\":\"uint256\"},{\"internalType\":\"uint256\",\"name\":\"feeGrowthOutside1X128\",\"type\":\"uint256\"},{\"internalType\":\"int56\",\"name\":\"tickCumulativeOutside\",\"type\":\"int56\"},{\"internalType\":\"uint160\",\"name\":\"secondsPerLiquidityOutsideX128\",\"type\":\"uint160\"},{\"internalType\":\"uint32\",\"name\":\"secondsOutside\",\"type\":\"uint32\"},{\"internalType\":\"bool\",\"name\":\"initialized\",\"type\":\"bool\"}],\"stateMutability\":\"view\",\"type\":\"function\"},{\"inputs\":[],\"name\":\"token0\",\"outputs\":[{\"internalType\":\"address\",\"name\":\"\",\"type\":\"address\"}],\"stateMutability\":\"view\",\"type\":\"function\"},{\"inputs\":[],\"name\":\"token1\",\"outputs\":[{\"internalType\":\"address\",\"name\":\"\",\"type\":\"address\"}],\"stateMutability\":\"view\",\"type\":\"function\"}]'\n",
        "UNIV3_USDC_WETH_CONTRACT_ADDRESS = '0xC6F780497A95e246EB9449f5e4770916DCd6396A'\n",
        "UNIV3_USDC_WETH_contract_abi = json.loads(UNIV3_USDC_WETH_CONTRACT_ABI)\n",
        "UNIV3_USDC_WETH_contract = web3_connection.eth.contract(address=UNIV3_USDC_WETH_CONTRACT_ADDRESS, abi=UNIV3_USDC_WETH_contract_abi)"
      ]
    },
    {
      "cell_type": "markdown",
      "metadata": {
        "id": "C6jzbmDf8KY4"
      },
      "source": [
        "We start by querying events so we query how much liquidity we add and at what block. Then we query when we decrease, how much liquidity we pull out."
      ]
    },
    {
      "cell_type": "code",
      "execution_count": 5,
      "metadata": {
        "id": "skMNiRG9hvKQ"
      },
      "outputs": [],
      "source": [
        "latest = web3_connection.eth.get_block_number()\n",
        "event_filter = NFT_POSITIONMANAGER_contract.events.IncreaseLiquidity.create_filter(fromBlock=0, toBlock=latest, argument_filters = {'tokenId': tokenID})\n",
        "res = event_filter.get_all_entries()"
      ]
    },
    {
      "cell_type": "code",
      "execution_count": 6,
      "metadata": {
        "id": "r7BzEd0ahwjB"
      },
      "outputs": [],
      "source": [
        "event_filter = NFT_POSITIONMANAGER_contract.events.DecreaseLiquidity.create_filter(fromBlock=0, toBlock=latest, argument_filters = {'tokenId': tokenID})\n",
        "res2 = event_filter.get_all_entries()"
      ]
    },
    {
      "cell_type": "markdown",
      "metadata": {
        "id": "k9lw2x_j8dVu"
      },
      "source": [
        "Call collect event. Collect event contains the funds we pulled out plus the interest. Some actions trigger events which are recorded on chain. Transactions on Eth scan."
      ]
    },
    {
      "cell_type": "code",
      "execution_count": 7,
      "metadata": {
        "id": "JqCagUQ-hyV5"
      },
      "outputs": [],
      "source": [
        "if len(res2) == 0:\n",
        "    endTime = datetime.datetime.now().replace(microsecond=0)\n",
        "else:\n",
        "    blockNumber_end = res2[-1]['blockNumber']\n",
        "    liquidity_end = NFT_POSITIONMANAGER_contract.functions.positions(tokenID).call(block_identifier=blockNumber_end)[7]\n",
        "    if liquidity_end == 0:\n",
        "        endTime = datetime.datetime.fromtimestamp(web3_connection.eth.get_block(blockNumber_end).timestamp)\n",
        "        event_filter = NFT_POSITIONMANAGER_contract.events.Collect.create_filter(fromBlock=0, toBlock=latest, argument_filters = {'tokenId': tokenID})\n",
        "        res3 = event_filter.get_all_entries()\n",
        "        amount0_burned = res2[-1]['args']['amount0']\n",
        "        amount1_burned = res2[-1]['args']['amount1']\n",
        "        amount0_collected = res3[-1]['args']['amount0']\n",
        "        amount1_collected = res3[-1]['args']['amount1']\n",
        "    else:\n",
        "        endTime = datetime.datetime.now().replace(microsecond=0)"
      ]
    },
    {
      "cell_type": "code",
      "execution_count": 8,
      "metadata": {
        "colab": {
          "base_uri": "https://localhost:8080/"
        },
        "id": "NeuMb-Mq-PlM",
        "outputId": "3a615816-8caf-49fb-d314-257728e3e5c2"
      },
      "outputs": [
        {
          "data": {
            "text/plain": [
              "[AttributeDict({'args': AttributeDict({'tokenId': 689776,\n",
              "   'liquidity': 7513105993856588599,\n",
              "   'amount0': 185182312000000000,\n",
              "   'amount1': 304817242345066940342}),\n",
              "  'event': 'IncreaseLiquidity',\n",
              "  'logIndex': 6,\n",
              "  'transactionIndex': 1,\n",
              "  'transactionHash': HexBytes('0xf24e4725d9a2f00f6114b312932c71b26aa2f9b003b6d9484eb06006bccc9e9d'),\n",
              "  'address': '0xC36442b4a4522E871399CD717aBDD847Ab11FE88',\n",
              "  'blockHash': HexBytes('0x7917707f862b4c258626c0f8a832201d0b18a49ba32b834ad8d44840e2888b44'),\n",
              "  'blockNumber': 105107176})]"
            ]
          },
          "execution_count": 8,
          "metadata": {},
          "output_type": "execute_result"
        }
      ],
      "source": [
        "res"
      ]
    },
    {
      "cell_type": "code",
      "execution_count": 9,
      "metadata": {
        "colab": {
          "base_uri": "https://localhost:8080/"
        },
        "id": "8zbCXpFw_1AB",
        "outputId": "ba10d5fd-0d70-491d-9d3f-4a0a4f01b93e"
      },
      "outputs": [
        {
          "data": {
            "text/plain": [
              "[AttributeDict({'args': AttributeDict({'tokenId': 689776,\n",
              "   'liquidity': 7513105993856588599,\n",
              "   'amount0': 185182312000000000,\n",
              "   'amount1': 304817242345066940342}),\n",
              "  'event': 'IncreaseLiquidity',\n",
              "  'logIndex': 6,\n",
              "  'transactionIndex': 1,\n",
              "  'transactionHash': HexBytes('0xf24e4725d9a2f00f6114b312932c71b26aa2f9b003b6d9484eb06006bccc9e9d'),\n",
              "  'address': '0xC36442b4a4522E871399CD717aBDD847Ab11FE88',\n",
              "  'blockHash': HexBytes('0x7917707f862b4c258626c0f8a832201d0b18a49ba32b834ad8d44840e2888b44'),\n",
              "  'blockNumber': 105107176})]"
            ]
          },
          "execution_count": 9,
          "metadata": {},
          "output_type": "execute_result"
        }
      ],
      "source": [
        "res"
      ]
    },
    {
      "cell_type": "markdown",
      "metadata": {
        "id": "N4rGBIyX9Fif"
      },
      "source": [
        "Query transaction hash (view on etherscan) - view the events.\n"
      ]
    },
    {
      "cell_type": "code",
      "execution_count": 10,
      "metadata": {
        "id": "mWDFknonh59J"
      },
      "outputs": [],
      "source": [
        "dates = [endTime]\n",
        "blockNumber_start = res[0]['blockNumber']\n",
        "startTime = datetime.datetime.fromtimestamp(web3_connection.eth.get_block(blockNumber_start).timestamp)\n",
        "startDate = (startTime+datetime.timedelta(1)).replace(minute=0, hour=0, second=0, microsecond=0)\n",
        "dates = list(pd.date_range(startDate, endTime).to_pydatetime()) + [endTime]\n",
        "for result in res:\n",
        "    mint_date = datetime.datetime.fromtimestamp(web3_connection.eth.get_block(result['blockNumber']).timestamp)\n",
        "    dates.append(mint_date)\n",
        "dates = np.sort(list(set(dates)))"
      ]
    },
    {
      "cell_type": "code",
      "execution_count": 11,
      "metadata": {},
      "outputs": [
        {
          "data": {
            "text/plain": [
              "datetime.datetime(2023, 6, 26, 13, 3, 1)"
            ]
          },
          "execution_count": 11,
          "metadata": {},
          "output_type": "execute_result"
        }
      ],
      "source": [
        "startTime"
      ]
    },
    {
      "cell_type": "code",
      "execution_count": 12,
      "metadata": {
        "id": "bUbfD9jkh8KZ"
      },
      "outputs": [
        {
          "name": "stdout",
          "output_type": "stream",
          "text": [
            "2023-06-26 13:03:01\n",
            "{'block': 105107177, 'date': '2023-06-26T13:03:01+00:00', 'timestamp': 1687784581, 'block_timestamp': '2023-06-26T13:03:01.000Z', 'hash': '0x874df68f30d79f8dd61b2cb8a614e6c8a45ad9c5230075b06b99601b642901a1', 'parent_hash': '0x7917707f862b4c258626c0f8a832201d0b18a49ba32b834ad8d44840e2888b44'}\n",
            "2023-06-27 00:00:00\n",
            "{'block': 105260590, 'date': '2023-06-27T00:00:00+00:00', 'timestamp': 1687824000, 'block_timestamp': '2023-06-27T00:00:00.000Z', 'hash': '0x1ebf5b62b2fed6e81d438fc10204c7dc36089cbf6a38b5e81d9af59ca715e59f', 'parent_hash': '0xd94af27131b1bc9c906b14145f632045c1cf1ab4a70b54c0cd9b2604d736d263'}\n",
            "2023-06-28 00:00:00\n",
            "{'block': 105598467, 'date': '2023-06-28T00:00:00+00:00', 'timestamp': 1687910400, 'block_timestamp': '2023-06-28T00:00:00.000Z', 'hash': '0x1bbb5dc8f5beffe28d5fbbee7db992a81dead564e36e4a882e5e0d5bc0d08d7c', 'parent_hash': '0x5148b8ae5913e6bab72e7467f62a94c8f2de4c563b354264e08aabbc8c95c527'}\n",
            "2023-06-29 00:00:00\n",
            "{'block': 105936843, 'date': '2023-06-29T00:00:00+00:00', 'timestamp': 1687996800, 'block_timestamp': '2023-06-29T00:00:00.000Z', 'hash': '0x65bf543f8d021097246d34e94bad87dafcf5a3643dcf2fd64641b3a76b045cf7', 'parent_hash': '0x4b325b4bb98f6d85afc1b952eadb7deed171e8cfbf1f6958f511702793337b22'}\n",
            "2023-06-30 00:00:00\n",
            "{'block': 106275981, 'date': '2023-06-30T00:00:00+00:00', 'timestamp': 1688083200, 'block_timestamp': '2023-06-30T00:00:00.000Z', 'hash': '0x898ada7a670a98c1b6a1e947a849713705ee7d67a406f9f3c9d5eba34c05dd85', 'parent_hash': '0x39f477186a3d305103a122e8a9bfbf59074acaba9b641dc4bfb7971b025a4e37'}\n",
            "2023-07-01 00:00:00\n",
            "{'block': 106616584, 'date': '2023-07-01T00:00:00+00:00', 'timestamp': 1688169600, 'block_timestamp': '2023-07-01T00:00:00.000Z', 'hash': '0x3a199ca065d2bfe1a5b6a5c94e46ef7bc419cf2cfa16880a6332cf24485b222a', 'parent_hash': '0x6f7140cdd64b80c2467cd25567af06d9175618d4de08290b7c6a32665b61fbf8'}\n",
            "2023-07-02 00:00:00\n",
            "{'block': 106947578, 'date': '2023-07-02T00:00:00+00:00', 'timestamp': 1688256000, 'block_timestamp': '2023-07-02T00:00:00.000Z', 'hash': '0xb65cedb3b145b9ce863c94eaf70632e6a89363a81269d4c0923f0ee16d51c171', 'parent_hash': '0x27fa5754b397e115cbb9ce4ef70f226fd83b6ae6548b203066153adc209b2409'}\n",
            "2023-07-03 00:00:00\n",
            "{'block': 107279264, 'date': '2023-07-03T00:00:00+00:00', 'timestamp': 1688342400, 'block_timestamp': '2023-07-03T00:00:00.000Z', 'hash': '0xa4d49e9068544ffc58852c0255d8ac2a8e29947c167174b19e628766927b473a', 'parent_hash': '0x3c45bb6f24f1188ff0f409a70c573e5feb5c9f6085fcf89d1bb9830d92c8edf6'}\n",
            "2023-07-04 00:00:00\n",
            "{'block': 107615358, 'date': '2023-07-04T00:00:00+00:00', 'timestamp': 1688428800, 'block_timestamp': '2023-07-04T00:00:00.000Z', 'hash': '0x102514e325eb3936be2989aa3516af3aa787b7d22fb8c0744a57e76a317d29f9', 'parent_hash': '0x5deaafe17bdc728140cd2216c0f8953ceed6a00556491288284c80875a277191'}\n",
            "2023-07-05 00:00:00\n",
            "{'block': 107946590, 'date': '2023-07-05T00:00:00+00:00', 'timestamp': 1688515200, 'block_timestamp': '2023-07-05T00:00:00.000Z', 'hash': '0xa6606df3d557fac5d662c4f3db91401ffd8bca9a01d1d8f4884dca12b33d62c6', 'parent_hash': '0x395f9a94f5fc0448ad77ea303ada6bd983912bba006e4c2ea6c611a6c9a52eb9'}\n",
            "2023-07-06 00:00:00\n",
            "{'block': 108269136, 'date': '2023-07-06T00:00:00+00:00', 'timestamp': 1688601600, 'block_timestamp': '2023-07-06T00:00:00.000Z', 'hash': '0x14a1b39aff48076af386e4b418119c97f1b7cb56a9dac6d06fe77224588d94f2', 'parent_hash': '0xa6d16e7fc3ae7cc0ead9f041f72467a69b310933a47821293537fd8ce6b786e0'}\n",
            "2023-07-06 13:00:43\n",
            "{'block': 108445594, 'date': '2023-07-06T13:00:43+00:00', 'timestamp': 1688648443, 'block_timestamp': '2023-07-06T13:00:43.000Z', 'hash': '0x80c6fd188b68e3903380016ac9fb4cdefd9c74919faef9fb9aac08c78503dbca', 'parent_hash': '0x72fcfa8e9d941effb205726f8ee7b15b45b6aa5f1236eedb2e13ce3393544502'}\n"
          ]
        }
      ],
      "source": [
        "fees_USDC = []\n",
        "fees_WETH = []\n",
        "liquidity_USDC = []\n",
        "liquidity_WETH = []\n",
        "sqrtPriceX96_array = []\n",
        "\n",
        "for date in dates:\n",
        "\n",
        "    print(date)\n",
        "\n",
        "    #Moralis: Get blocknumber from date\n",
        "    #https://docs.moralis.io/web3-data-api/reference/get-date-to-block\n",
        "\n",
        "    api_key = \"zWUKbN72Ae3VcnbnUzXUg0wfIHUglQ5pGpGElmOgM2eMypBmaRB0DWwr2tDhk9HI\"\n",
        "    params = {\n",
        "        \"date\": date,\n",
        "        \"chain\": \"arbitrum\",\n",
        "    }\n",
        "\n",
        "    result = evm_api.block.get_date_to_block(\n",
        "        api_key=api_key,\n",
        "        params=params,\n",
        "    )\n",
        "\n",
        "    print(result)\n",
        "\n",
        "    position = NFT_POSITIONMANAGER_contract.functions.positions(tokenID).call(block_identifier=result['block'])\n",
        "    lowerTick = position[5]\n",
        "    upperTick = position[6]\n",
        "    liquidity = position[7]\n",
        "    feeGrowthInside0LastX128 = position[8]\n",
        "    feeGrowthInside1LastX128 = position[9]\n",
        "\n",
        "    feeGrowthGlobal0X128 = UNIV3_USDC_WETH_contract.functions.feeGrowthGlobal0X128().call(block_identifier=result['block'])\n",
        "    feeGrowthGlobal1X128 = UNIV3_USDC_WETH_contract.functions.feeGrowthGlobal1X128().call(block_identifier=result['block'])\n",
        "    UNIV3_USDC_WETH_contract_lowerTick = UNIV3_USDC_WETH_contract.functions.ticks(lowerTick).call(block_identifier=result['block'])\n",
        "    feeGrowthOutside0X128_LowerTick = UNIV3_USDC_WETH_contract_lowerTick[2]\n",
        "    feeGrowthOutside1X128_LowerTick = UNIV3_USDC_WETH_contract_lowerTick[3]\n",
        "    UNIV3_USDC_WETH_contract_upperTick = UNIV3_USDC_WETH_contract.functions.ticks(upperTick).call(block_identifier=result['block'])\n",
        "    feeGrowthOutside0X128_UpperTick = UNIV3_USDC_WETH_contract_upperTick[2]\n",
        "    feeGrowthOutside1X128_UpperTick = UNIV3_USDC_WETH_contract_upperTick[3]\n",
        "    slot0 = UNIV3_USDC_WETH_contract.functions.slot0().call(block_identifier=result['block'])\n",
        "    sqrtPriceX96 = slot0[0]\n",
        "    currentTick = slot0[1]\n",
        "\n",
        "    if currentTick >= lowerTick:\n",
        "        feeGrowthBelow0X128 = feeGrowthOutside0X128_LowerTick\n",
        "        feeGrowthBelow1X128 = feeGrowthOutside1X128_LowerTick\n",
        "    else:\n",
        "        feeGrowthBelow0X128 = feeGrowthGlobal0X128 - feeGrowthOutside0X128_LowerTick\n",
        "        feeGrowthBelow1X128 = feeGrowthGlobal1X128 - feeGrowthOutside1X128_LowerTick\n",
        "\n",
        "    if currentTick < upperTick:\n",
        "        feeGrowthAbove0X128 = feeGrowthOutside0X128_UpperTick\n",
        "        feeGrowthAbove1X128 = feeGrowthOutside1X128_UpperTick\n",
        "    else:\n",
        "        feeGrowthAbove0X128 = feeGrowthGlobal0X128 - feeGrowthOutside0X128_UpperTick\n",
        "        feeGrowthAbove1X128 = feeGrowthGlobal1X128 - feeGrowthOutside1X128_UpperTick\n",
        "\n",
        "    fees0X128 = (feeGrowthGlobal0X128 - feeGrowthBelow0X128 - feeGrowthAbove0X128 - feeGrowthInside0LastX128) % 2**256\n",
        "    fees1X128 = (feeGrowthGlobal1X128 - feeGrowthBelow1X128 - feeGrowthAbove1X128 - feeGrowthInside1LastX128) % 2**256\n",
        "\n",
        "    tokensOwed0 = position[10]\n",
        "    tokensOwed1 = position[11]\n",
        "\n",
        "    fees_USDC.append(fees0X128/2**128*liquidity/10**decimals_USDC + tokensOwed0/10**decimals_USDC)\n",
        "    fees_WETH.append(fees1X128/2**128*liquidity/10**decimals_WETH + tokensOwed1/10**decimals_WETH)\n",
        "\n",
        "    if currentTick < lowerTick:\n",
        "        liquidity_token0 = liquidity*(1/np.sqrt(1.0001**lowerTick) - 1/np.sqrt(1.0001**upperTick))\n",
        "        liquidity_token1 = 0\n",
        "    elif currentTick >= upperTick:\n",
        "        liquidity_token0 = 0\n",
        "        liquidity_token1 = liquidity*(np.sqrt(1.0001**upperTick) - np.sqrt(1.0001**lowerTick))\n",
        "    else:\n",
        "        liquidity_token0 = liquidity*(1/(sqrtPriceX96/2**96) - 1/np.sqrt(1.0001**upperTick))\n",
        "        liquidity_token1 = liquidity*(sqrtPriceX96/2**96 - np.sqrt(1.0001**lowerTick))\n",
        "\n",
        "    liquidity_USDC.append(liquidity_token0/10**decimals_USDC)\n",
        "    liquidity_WETH.append(liquidity_token1/10**decimals_WETH)\n",
        "\n",
        "    sqrtPriceX96_array.append(sqrtPriceX96)"
      ]
    },
    {
      "cell_type": "code",
      "execution_count": 13,
      "metadata": {
        "id": "04swiMmNihk7"
      },
      "outputs": [],
      "source": [
        "fees_daily = pd.DataFrame()\n",
        "fees_daily[\"Date\"] = dates\n",
        "fees_daily[\"Fees USDC\"] = fees_USDC\n",
        "fees_daily[\"Fees WETH\"] = fees_WETH\n",
        "fees_daily[\"Liquidity USDC added\"] = 0\n",
        "fees_daily[\"Liquidity WETH added\"] = 0\n",
        "fees_daily[\"Liquidity USDC\"] = liquidity_USDC\n",
        "fees_daily[\"Liquidity WETH\"] = liquidity_WETH\n",
        "\n",
        "\n",
        "\n",
        "for result in res:\n",
        "    mint_date = datetime.datetime.fromtimestamp(web3_connection.eth.get_block(result['blockNumber']).timestamp)\n",
        "    fees_daily.loc[fees_daily[\"Date\"] == mint_date, \"Liquidity USDC added\"] = result['args']['amount0']/10**decimals_USDC\n",
        "    fees_daily.loc[fees_daily[\"Date\"] == mint_date, \"Liquidity WETH added\"] = result['args']['amount1']/10**decimals_WETH\n",
        "\n",
        "\n",
        "\n",
        "if len(res2) > 0:\n",
        "    if liquidity_end == 0:\n",
        "        #update values for the block when LP is removed\n",
        "        fees_daily.loc[fees_daily[\"Date\"] == endTime, \"Fees USDC\"] = (amount0_collected - amount0_burned)/10**decimals_USDC\n",
        "        fees_daily.loc[fees_daily[\"Date\"] == endTime, \"Fees WETH\"] = (amount1_collected - amount1_burned)/10**decimals_WETH\n",
        "        fees_daily.loc[fees_daily[\"Date\"] == endTime, \"Liquidity USDC\"] = amount0_burned/10**decimals_USDC\n",
        "        fees_daily.loc[fees_daily[\"Date\"] == endTime, \"Liquidity WETH\"] = amount1_burned/10**decimals_WETH\n",
        "\n",
        "fees_daily[\"Price WETH/USDC\"] = 1/((np.array(sqrtPriceX96_array)/2**96)**2 * 10**(decimals_USDC-decimals_WETH))\n",
        "fees_daily[\"Liquidity added USDC converted\"] = fees_daily[\"Liquidity USDC added\"] + fees_daily[\"Liquidity WETH added\"] * fees_daily[\"Price WETH/USDC\"]\n",
        "fees_daily[\"Portfolio USDC converted\"] = fees_daily[\"Fees USDC\"] + fees_daily[\"Liquidity USDC\"] + (fees_daily[\"Fees WETH\"] + fees_daily[\"Liquidity WETH\"])  * fees_daily[\"Price WETH/USDC\"]\n",
        "fees_daily[\"Fees USDC converted\"] = fees_daily[\"Fees USDC\"] + fees_daily[\"Fees WETH\"] * fees_daily[\"Price WETH/USDC\"]"
      ]
    },
    {
      "cell_type": "code",
      "execution_count": 14,
      "metadata": {
        "colab": {
          "base_uri": "https://localhost:8080/",
          "height": 1000
        },
        "id": "JKIdMdsRillx",
        "outputId": "b33dd76e-585b-4966-e60c-4fbecc1d0750"
      },
      "outputs": [
        {
          "data": {
            "text/html": [
              "<div>\n",
              "<style scoped>\n",
              "    .dataframe tbody tr th:only-of-type {\n",
              "        vertical-align: middle;\n",
              "    }\n",
              "\n",
              "    .dataframe tbody tr th {\n",
              "        vertical-align: top;\n",
              "    }\n",
              "\n",
              "    .dataframe thead th {\n",
              "        text-align: right;\n",
              "    }\n",
              "</style>\n",
              "<table border=\"1\" class=\"dataframe\">\n",
              "  <thead>\n",
              "    <tr style=\"text-align: right;\">\n",
              "      <th></th>\n",
              "      <th>Date</th>\n",
              "      <th>Fees USDC</th>\n",
              "      <th>Fees WETH</th>\n",
              "      <th>Liquidity USDC added</th>\n",
              "      <th>Liquidity WETH added</th>\n",
              "      <th>Liquidity USDC</th>\n",
              "      <th>Liquidity WETH</th>\n",
              "      <th>Price WETH/USDC</th>\n",
              "      <th>Liquidity added USDC converted</th>\n",
              "      <th>Portfolio USDC converted</th>\n",
              "      <th>Fees USDC converted</th>\n",
              "    </tr>\n",
              "  </thead>\n",
              "  <tbody>\n",
              "    <tr>\n",
              "      <th>0</th>\n",
              "      <td>2023-06-26 13:03:01</td>\n",
              "      <td>0.000000</td>\n",
              "      <td>0.000000</td>\n",
              "      <td>0.185182</td>\n",
              "      <td>304.817242</td>\n",
              "      <td>0.185182</td>\n",
              "      <td>304.817242</td>\n",
              "      <td>0.000608</td>\n",
              "      <td>0.370365</td>\n",
              "      <td>0.370365</td>\n",
              "      <td>0.0</td>\n",
              "    </tr>\n",
              "    <tr>\n",
              "      <th>1</th>\n",
              "      <td>2023-06-27 00:00:00</td>\n",
              "      <td>0.000012</td>\n",
              "      <td>0.019611</td>\n",
              "      <td>0.000000</td>\n",
              "      <td>0.000000</td>\n",
              "      <td>0.186108</td>\n",
              "      <td>303.301380</td>\n",
              "      <td>0.000614</td>\n",
              "      <td>0.0</td>\n",
              "      <td>0.37224</td>\n",
              "      <td>0.000025</td>\n",
              "    </tr>\n",
              "    <tr>\n",
              "      <th>2</th>\n",
              "      <td>2023-06-28 00:00:00</td>\n",
              "      <td>0.000047</td>\n",
              "      <td>0.070107</td>\n",
              "      <td>0.000000</td>\n",
              "      <td>0.000000</td>\n",
              "      <td>0.189821</td>\n",
              "      <td>297.368357</td>\n",
              "      <td>0.000638</td>\n",
              "      <td>0.0</td>\n",
              "      <td>0.379734</td>\n",
              "      <td>0.000092</td>\n",
              "    </tr>\n",
              "    <tr>\n",
              "      <th>3</th>\n",
              "      <td>2023-06-29 00:00:00</td>\n",
              "      <td>0.000068</td>\n",
              "      <td>0.106645</td>\n",
              "      <td>0.000000</td>\n",
              "      <td>0.000000</td>\n",
              "      <td>0.186076</td>\n",
              "      <td>303.352723</td>\n",
              "      <td>0.000613</td>\n",
              "      <td>0.0</td>\n",
              "      <td>0.372286</td>\n",
              "      <td>0.000133</td>\n",
              "    </tr>\n",
              "    <tr>\n",
              "      <th>4</th>\n",
              "      <td>2023-06-30 00:00:00</td>\n",
              "      <td>0.000081</td>\n",
              "      <td>0.128822</td>\n",
              "      <td>0.000000</td>\n",
              "      <td>0.000000</td>\n",
              "      <td>0.185569</td>\n",
              "      <td>304.181259</td>\n",
              "      <td>0.00061</td>\n",
              "      <td>0.0</td>\n",
              "      <td>0.371299</td>\n",
              "      <td>0.00016</td>\n",
              "    </tr>\n",
              "    <tr>\n",
              "      <th>5</th>\n",
              "      <td>2023-07-01 00:00:00</td>\n",
              "      <td>0.000114</td>\n",
              "      <td>0.183349</td>\n",
              "      <td>0.000000</td>\n",
              "      <td>0.000000</td>\n",
              "      <td>0.184331</td>\n",
              "      <td>306.225291</td>\n",
              "      <td>0.000602</td>\n",
              "      <td>0.0</td>\n",
              "      <td>0.368886</td>\n",
              "      <td>0.000224</td>\n",
              "    </tr>\n",
              "    <tr>\n",
              "      <th>6</th>\n",
              "      <td>2023-07-02 00:00:00</td>\n",
              "      <td>0.000123</td>\n",
              "      <td>0.199219</td>\n",
              "      <td>0.000000</td>\n",
              "      <td>0.000000</td>\n",
              "      <td>0.183756</td>\n",
              "      <td>307.182559</td>\n",
              "      <td>0.000598</td>\n",
              "      <td>0.0</td>\n",
              "      <td>0.367755</td>\n",
              "      <td>0.000242</td>\n",
              "    </tr>\n",
              "    <tr>\n",
              "      <th>7</th>\n",
              "      <td>2023-07-03 00:00:00</td>\n",
              "      <td>0.000133</td>\n",
              "      <td>0.216649</td>\n",
              "      <td>0.000000</td>\n",
              "      <td>0.000000</td>\n",
              "      <td>0.183100</td>\n",
              "      <td>308.283810</td>\n",
              "      <td>0.000594</td>\n",
              "      <td>0.0</td>\n",
              "      <td>0.366461</td>\n",
              "      <td>0.000261</td>\n",
              "    </tr>\n",
              "    <tr>\n",
              "      <th>8</th>\n",
              "      <td>2023-07-04 00:00:00</td>\n",
              "      <td>0.000143</td>\n",
              "      <td>0.232838</td>\n",
              "      <td>0.000000</td>\n",
              "      <td>0.000000</td>\n",
              "      <td>0.183632</td>\n",
              "      <td>307.391381</td>\n",
              "      <td>0.000597</td>\n",
              "      <td>0.0</td>\n",
              "      <td>0.367545</td>\n",
              "      <td>0.000282</td>\n",
              "    </tr>\n",
              "    <tr>\n",
              "      <th>9</th>\n",
              "      <td>2023-07-05 00:00:00</td>\n",
              "      <td>0.000151</td>\n",
              "      <td>0.247525</td>\n",
              "      <td>0.000000</td>\n",
              "      <td>0.000000</td>\n",
              "      <td>0.182958</td>\n",
              "      <td>308.522590</td>\n",
              "      <td>0.000593</td>\n",
              "      <td>0.0</td>\n",
              "      <td>0.366215</td>\n",
              "      <td>0.000298</td>\n",
              "    </tr>\n",
              "    <tr>\n",
              "      <th>10</th>\n",
              "      <td>2023-07-06 00:00:00</td>\n",
              "      <td>0.000158</td>\n",
              "      <td>0.260749</td>\n",
              "      <td>0.000000</td>\n",
              "      <td>0.000000</td>\n",
              "      <td>0.181159</td>\n",
              "      <td>311.587350</td>\n",
              "      <td>0.000581</td>\n",
              "      <td>0.0</td>\n",
              "      <td>0.362627</td>\n",
              "      <td>0.00031</td>\n",
              "    </tr>\n",
              "    <tr>\n",
              "      <th>11</th>\n",
              "      <td>2023-07-06 13:00:43</td>\n",
              "      <td>0.000163</td>\n",
              "      <td>0.268409</td>\n",
              "      <td>0.000000</td>\n",
              "      <td>0.000000</td>\n",
              "      <td>0.181379</td>\n",
              "      <td>311.209297</td>\n",
              "      <td>0.000583</td>\n",
              "      <td>0.0</td>\n",
              "      <td>0.363077</td>\n",
              "      <td>0.000319</td>\n",
              "    </tr>\n",
              "  </tbody>\n",
              "</table>\n",
              "</div>"
            ],
            "text/plain": [
              "                  Date  Fees USDC  Fees WETH  Liquidity USDC added   \n",
              "0  2023-06-26 13:03:01   0.000000   0.000000              0.185182  \\\n",
              "1  2023-06-27 00:00:00   0.000012   0.019611              0.000000   \n",
              "2  2023-06-28 00:00:00   0.000047   0.070107              0.000000   \n",
              "3  2023-06-29 00:00:00   0.000068   0.106645              0.000000   \n",
              "4  2023-06-30 00:00:00   0.000081   0.128822              0.000000   \n",
              "5  2023-07-01 00:00:00   0.000114   0.183349              0.000000   \n",
              "6  2023-07-02 00:00:00   0.000123   0.199219              0.000000   \n",
              "7  2023-07-03 00:00:00   0.000133   0.216649              0.000000   \n",
              "8  2023-07-04 00:00:00   0.000143   0.232838              0.000000   \n",
              "9  2023-07-05 00:00:00   0.000151   0.247525              0.000000   \n",
              "10 2023-07-06 00:00:00   0.000158   0.260749              0.000000   \n",
              "11 2023-07-06 13:00:43   0.000163   0.268409              0.000000   \n",
              "\n",
              "    Liquidity WETH added  Liquidity USDC  Liquidity WETH Price WETH/USDC   \n",
              "0             304.817242        0.185182      304.817242        0.000608  \\\n",
              "1               0.000000        0.186108      303.301380        0.000614   \n",
              "2               0.000000        0.189821      297.368357        0.000638   \n",
              "3               0.000000        0.186076      303.352723        0.000613   \n",
              "4               0.000000        0.185569      304.181259         0.00061   \n",
              "5               0.000000        0.184331      306.225291        0.000602   \n",
              "6               0.000000        0.183756      307.182559        0.000598   \n",
              "7               0.000000        0.183100      308.283810        0.000594   \n",
              "8               0.000000        0.183632      307.391381        0.000597   \n",
              "9               0.000000        0.182958      308.522590        0.000593   \n",
              "10              0.000000        0.181159      311.587350        0.000581   \n",
              "11              0.000000        0.181379      311.209297        0.000583   \n",
              "\n",
              "   Liquidity added USDC converted Portfolio USDC converted Fees USDC converted  \n",
              "0                        0.370365                 0.370365                 0.0  \n",
              "1                             0.0                  0.37224            0.000025  \n",
              "2                             0.0                 0.379734            0.000092  \n",
              "3                             0.0                 0.372286            0.000133  \n",
              "4                             0.0                 0.371299             0.00016  \n",
              "5                             0.0                 0.368886            0.000224  \n",
              "6                             0.0                 0.367755            0.000242  \n",
              "7                             0.0                 0.366461            0.000261  \n",
              "8                             0.0                 0.367545            0.000282  \n",
              "9                             0.0                 0.366215            0.000298  \n",
              "10                            0.0                 0.362627             0.00031  \n",
              "11                            0.0                 0.363077            0.000319  "
            ]
          },
          "metadata": {},
          "output_type": "display_data"
        }
      ],
      "source": [
        "display(fees_daily)"
      ]
    },
    {
      "cell_type": "code",
      "execution_count": 15,
      "metadata": {
        "colab": {
          "base_uri": "https://localhost:8080/"
        },
        "id": "v-uOtrRTin6g",
        "outputId": "648e24ad-792a-4893-8553-2e4baaae2ad6"
      },
      "outputs": [
        {
          "data": {
            "text/plain": [
              "Liquidity USDC added    0.185182\n",
              "dtype: float64"
            ]
          },
          "execution_count": 15,
          "metadata": {},
          "output_type": "execute_result"
        }
      ],
      "source": [
        "fees_daily[['Liquidity USDC added']].sum()"
      ]
    },
    {
      "cell_type": "code",
      "execution_count": 16,
      "metadata": {
        "colab": {
          "base_uri": "https://localhost:8080/"
        },
        "id": "yd3V-lsciqMY",
        "outputId": "98e72721-0864-4eaa-82c0-edc2e0bb9434"
      },
      "outputs": [
        {
          "data": {
            "text/plain": [
              "Liquidity WETH added    304.817242\n",
              "dtype: float64"
            ]
          },
          "execution_count": 16,
          "metadata": {},
          "output_type": "execute_result"
        }
      ],
      "source": [
        "fees_daily[['Liquidity WETH added']].sum()"
      ]
    },
    {
      "cell_type": "code",
      "execution_count": 17,
      "metadata": {
        "id": "T47Gw7zOisSo"
      },
      "outputs": [],
      "source": [
        "fees_daily.to_csv(f'{tokenID}.csv')"
      ]
    },
    {
      "cell_type": "code",
      "execution_count": null,
      "metadata": {},
      "outputs": [],
      "source": []
    },
    {
      "cell_type": "code",
      "execution_count": 18,
      "metadata": {},
      "outputs": [
        {
          "data": {
            "text/plain": [
              "datetime.datetime(2023, 7, 6, 13, 1, 7, 765321)"
            ]
          },
          "execution_count": 18,
          "metadata": {},
          "output_type": "execute_result"
        }
      ],
      "source": [
        "datetime.datetime.now()"
      ]
    },
    {
      "cell_type": "code",
      "execution_count": null,
      "metadata": {},
      "outputs": [],
      "source": []
    }
  ],
  "metadata": {
    "colab": {
      "provenance": []
    },
    "kernelspec": {
      "display_name": "Python 3",
      "name": "python3"
    },
    "language_info": {
      "codemirror_mode": {
        "name": "ipython",
        "version": 3
      },
      "file_extension": ".py",
      "mimetype": "text/x-python",
      "name": "python",
      "nbconvert_exporter": "python",
      "pygments_lexer": "ipython3",
      "version": "3.10.4"
    }
  },
  "nbformat": 4,
  "nbformat_minor": 0
}
