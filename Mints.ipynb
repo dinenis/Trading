{
  "cells": [
    {
      "cell_type": "code",
      "execution_count": 80,
      "metadata": {
        "id": "SUf0k99-hnCY"
      },
      "outputs": [],
      "source": [
        "from web3 import Web3\n",
        "import json\n",
        "import numpy as np\n",
        "from moralis import evm_api\n",
        "import datetime\n",
        "import pandas as pd\n",
        "import plotly.express as px"
      ]
    },
    {
      "cell_type": "code",
      "execution_count": 81,
      "metadata": {
        "id": "fZ1DW-7ShpVh"
      },
      "outputs": [],
      "source": [
        "decimals_USDC = 6\n",
        "decimals_WETH = 18\n",
        "tokenID = 443940"
      ]
    },
    {
      "cell_type": "code",
      "execution_count": 82,
      "metadata": {
        "id": "LbNbBZkrhryz"
      },
      "outputs": [],
      "source": [
        "NODE_PROVIDER='https://eth-mainnet.g.alchemy.com/v2/kqq6YvePSbVVpqEq_BeUTK9VOB8aO9e9'\n",
        "web3_connection = Web3(Web3.HTTPProvider(NODE_PROVIDER))\n",
        "NFT_POSITIONMANAGER_CONTRACT_ABI='[{\"inputs\":[{\"internalType\":\"address\",\"name\":\"_factory\",\"type\":\"address\"},{\"internalType\":\"address\",\"name\":\"_WETH9\",\"type\":\"address\"},{\"internalType\":\"address\",\"name\":\"_tokenDescriptor_\",\"type\":\"address\"}],\"stateMutability\":\"nonpayable\",\"type\":\"constructor\"},{\"anonymous\":false,\"inputs\":[{\"indexed\":true,\"internalType\":\"address\",\"name\":\"owner\",\"type\":\"address\"},{\"indexed\":true,\"internalType\":\"address\",\"name\":\"approved\",\"type\":\"address\"},{\"indexed\":true,\"internalType\":\"uint256\",\"name\":\"tokenId\",\"type\":\"uint256\"}],\"name\":\"Approval\",\"type\":\"event\"},{\"anonymous\":false,\"inputs\":[{\"indexed\":true,\"internalType\":\"address\",\"name\":\"owner\",\"type\":\"address\"},{\"indexed\":true,\"internalType\":\"address\",\"name\":\"operator\",\"type\":\"address\"},{\"indexed\":false,\"internalType\":\"bool\",\"name\":\"approved\",\"type\":\"bool\"}],\"name\":\"ApprovalForAll\",\"type\":\"event\"},{\"anonymous\":false,\"inputs\":[{\"indexed\":true,\"internalType\":\"uint256\",\"name\":\"tokenId\",\"type\":\"uint256\"},{\"indexed\":false,\"internalType\":\"address\",\"name\":\"recipient\",\"type\":\"address\"},{\"indexed\":false,\"internalType\":\"uint256\",\"name\":\"amount0\",\"type\":\"uint256\"},{\"indexed\":false,\"internalType\":\"uint256\",\"name\":\"amount1\",\"type\":\"uint256\"}],\"name\":\"Collect\",\"type\":\"event\"},{\"anonymous\":false,\"inputs\":[{\"indexed\":true,\"internalType\":\"uint256\",\"name\":\"tokenId\",\"type\":\"uint256\"},{\"indexed\":false,\"internalType\":\"uint128\",\"name\":\"liquidity\",\"type\":\"uint128\"},{\"indexed\":false,\"internalType\":\"uint256\",\"name\":\"amount0\",\"type\":\"uint256\"},{\"indexed\":false,\"internalType\":\"uint256\",\"name\":\"amount1\",\"type\":\"uint256\"}],\"name\":\"DecreaseLiquidity\",\"type\":\"event\"},{\"anonymous\":false,\"inputs\":[{\"indexed\":true,\"internalType\":\"uint256\",\"name\":\"tokenId\",\"type\":\"uint256\"},{\"indexed\":false,\"internalType\":\"uint128\",\"name\":\"liquidity\",\"type\":\"uint128\"},{\"indexed\":false,\"internalType\":\"uint256\",\"name\":\"amount0\",\"type\":\"uint256\"},{\"indexed\":false,\"internalType\":\"uint256\",\"name\":\"amount1\",\"type\":\"uint256\"}],\"name\":\"IncreaseLiquidity\",\"type\":\"event\"},{\"anonymous\":false,\"inputs\":[{\"indexed\":true,\"internalType\":\"address\",\"name\":\"from\",\"type\":\"address\"},{\"indexed\":true,\"internalType\":\"address\",\"name\":\"to\",\"type\":\"address\"},{\"indexed\":true,\"internalType\":\"uint256\",\"name\":\"tokenId\",\"type\":\"uint256\"}],\"name\":\"Transfer\",\"type\":\"event\"},{\"inputs\":[],\"name\":\"DOMAIN_SEPARATOR\",\"outputs\":[{\"internalType\":\"bytes32\",\"name\":\"\",\"type\":\"bytes32\"}],\"stateMutability\":\"view\",\"type\":\"function\"},{\"inputs\":[],\"name\":\"PERMIT_TYPEHASH\",\"outputs\":[{\"internalType\":\"bytes32\",\"name\":\"\",\"type\":\"bytes32\"}],\"stateMutability\":\"view\",\"type\":\"function\"},{\"inputs\":[],\"name\":\"WETH9\",\"outputs\":[{\"internalType\":\"address\",\"name\":\"\",\"type\":\"address\"}],\"stateMutability\":\"view\",\"type\":\"function\"},{\"inputs\":[{\"internalType\":\"address\",\"name\":\"to\",\"type\":\"address\"},{\"internalType\":\"uint256\",\"name\":\"tokenId\",\"type\":\"uint256\"}],\"name\":\"approve\",\"outputs\":[],\"stateMutability\":\"nonpayable\",\"type\":\"function\"},{\"inputs\":[{\"internalType\":\"address\",\"name\":\"owner\",\"type\":\"address\"}],\"name\":\"balanceOf\",\"outputs\":[{\"internalType\":\"uint256\",\"name\":\"\",\"type\":\"uint256\"}],\"stateMutability\":\"view\",\"type\":\"function\"},{\"inputs\":[],\"name\":\"baseURI\",\"outputs\":[{\"internalType\":\"string\",\"name\":\"\",\"type\":\"string\"}],\"stateMutability\":\"pure\",\"type\":\"function\"},{\"inputs\":[{\"internalType\":\"uint256\",\"name\":\"tokenId\",\"type\":\"uint256\"}],\"name\":\"burn\",\"outputs\":[],\"stateMutability\":\"payable\",\"type\":\"function\"},{\"inputs\":[{\"components\":[{\"internalType\":\"uint256\",\"name\":\"tokenId\",\"type\":\"uint256\"},{\"internalType\":\"address\",\"name\":\"recipient\",\"type\":\"address\"},{\"internalType\":\"uint128\",\"name\":\"amount0Max\",\"type\":\"uint128\"},{\"internalType\":\"uint128\",\"name\":\"amount1Max\",\"type\":\"uint128\"}],\"internalType\":\"struct INonfungiblePositionManager.CollectParams\",\"name\":\"params\",\"type\":\"tuple\"}],\"name\":\"collect\",\"outputs\":[{\"internalType\":\"uint256\",\"name\":\"amount0\",\"type\":\"uint256\"},{\"internalType\":\"uint256\",\"name\":\"amount1\",\"type\":\"uint256\"}],\"stateMutability\":\"payable\",\"type\":\"function\"},{\"inputs\":[{\"internalType\":\"address\",\"name\":\"token0\",\"type\":\"address\"},{\"internalType\":\"address\",\"name\":\"token1\",\"type\":\"address\"},{\"internalType\":\"uint24\",\"name\":\"fee\",\"type\":\"uint24\"},{\"internalType\":\"uint160\",\"name\":\"sqrtPriceX96\",\"type\":\"uint160\"}],\"name\":\"createAndInitializePoolIfNecessary\",\"outputs\":[{\"internalType\":\"address\",\"name\":\"pool\",\"type\":\"address\"}],\"stateMutability\":\"payable\",\"type\":\"function\"},{\"inputs\":[{\"components\":[{\"internalType\":\"uint256\",\"name\":\"tokenId\",\"type\":\"uint256\"},{\"internalType\":\"uint128\",\"name\":\"liquidity\",\"type\":\"uint128\"},{\"internalType\":\"uint256\",\"name\":\"amount0Min\",\"type\":\"uint256\"},{\"internalType\":\"uint256\",\"name\":\"amount1Min\",\"type\":\"uint256\"},{\"internalType\":\"uint256\",\"name\":\"deadline\",\"type\":\"uint256\"}],\"internalType\":\"struct INonfungiblePositionManager.DecreaseLiquidityParams\",\"name\":\"params\",\"type\":\"tuple\"}],\"name\":\"decreaseLiquidity\",\"outputs\":[{\"internalType\":\"uint256\",\"name\":\"amount0\",\"type\":\"uint256\"},{\"internalType\":\"uint256\",\"name\":\"amount1\",\"type\":\"uint256\"}],\"stateMutability\":\"payable\",\"type\":\"function\"},{\"inputs\":[],\"name\":\"factory\",\"outputs\":[{\"internalType\":\"address\",\"name\":\"\",\"type\":\"address\"}],\"stateMutability\":\"view\",\"type\":\"function\"},{\"inputs\":[{\"internalType\":\"uint256\",\"name\":\"tokenId\",\"type\":\"uint256\"}],\"name\":\"getApproved\",\"outputs\":[{\"internalType\":\"address\",\"name\":\"\",\"type\":\"address\"}],\"stateMutability\":\"view\",\"type\":\"function\"},{\"inputs\":[{\"components\":[{\"internalType\":\"uint256\",\"name\":\"tokenId\",\"type\":\"uint256\"},{\"internalType\":\"uint256\",\"name\":\"amount0Desired\",\"type\":\"uint256\"},{\"internalType\":\"uint256\",\"name\":\"amount1Desired\",\"type\":\"uint256\"},{\"internalType\":\"uint256\",\"name\":\"amount0Min\",\"type\":\"uint256\"},{\"internalType\":\"uint256\",\"name\":\"amount1Min\",\"type\":\"uint256\"},{\"internalType\":\"uint256\",\"name\":\"deadline\",\"type\":\"uint256\"}],\"internalType\":\"struct INonfungiblePositionManager.IncreaseLiquidityParams\",\"name\":\"params\",\"type\":\"tuple\"}],\"name\":\"increaseLiquidity\",\"outputs\":[{\"internalType\":\"uint128\",\"name\":\"liquidity\",\"type\":\"uint128\"},{\"internalType\":\"uint256\",\"name\":\"amount0\",\"type\":\"uint256\"},{\"internalType\":\"uint256\",\"name\":\"amount1\",\"type\":\"uint256\"}],\"stateMutability\":\"payable\",\"type\":\"function\"},{\"inputs\":[{\"internalType\":\"address\",\"name\":\"owner\",\"type\":\"address\"},{\"internalType\":\"address\",\"name\":\"operator\",\"type\":\"address\"}],\"name\":\"isApprovedForAll\",\"outputs\":[{\"internalType\":\"bool\",\"name\":\"\",\"type\":\"bool\"}],\"stateMutability\":\"view\",\"type\":\"function\"},{\"inputs\":[{\"components\":[{\"internalType\":\"address\",\"name\":\"token0\",\"type\":\"address\"},{\"internalType\":\"address\",\"name\":\"token1\",\"type\":\"address\"},{\"internalType\":\"uint24\",\"name\":\"fee\",\"type\":\"uint24\"},{\"internalType\":\"int24\",\"name\":\"tickLower\",\"type\":\"int24\"},{\"internalType\":\"int24\",\"name\":\"tickUpper\",\"type\":\"int24\"},{\"internalType\":\"uint256\",\"name\":\"amount0Desired\",\"type\":\"uint256\"},{\"internalType\":\"uint256\",\"name\":\"amount1Desired\",\"type\":\"uint256\"},{\"internalType\":\"uint256\",\"name\":\"amount0Min\",\"type\":\"uint256\"},{\"internalType\":\"uint256\",\"name\":\"amount1Min\",\"type\":\"uint256\"},{\"internalType\":\"address\",\"name\":\"recipient\",\"type\":\"address\"},{\"internalType\":\"uint256\",\"name\":\"deadline\",\"type\":\"uint256\"}],\"internalType\":\"struct INonfungiblePositionManager.MintParams\",\"name\":\"params\",\"type\":\"tuple\"}],\"name\":\"mint\",\"outputs\":[{\"internalType\":\"uint256\",\"name\":\"tokenId\",\"type\":\"uint256\"},{\"internalType\":\"uint128\",\"name\":\"liquidity\",\"type\":\"uint128\"},{\"internalType\":\"uint256\",\"name\":\"amount0\",\"type\":\"uint256\"},{\"internalType\":\"uint256\",\"name\":\"amount1\",\"type\":\"uint256\"}],\"stateMutability\":\"payable\",\"type\":\"function\"},{\"inputs\":[{\"internalType\":\"bytes[]\",\"name\":\"data\",\"type\":\"bytes[]\"}],\"name\":\"multicall\",\"outputs\":[{\"internalType\":\"bytes[]\",\"name\":\"results\",\"type\":\"bytes[]\"}],\"stateMutability\":\"payable\",\"type\":\"function\"},{\"inputs\":[],\"name\":\"name\",\"outputs\":[{\"internalType\":\"string\",\"name\":\"\",\"type\":\"string\"}],\"stateMutability\":\"view\",\"type\":\"function\"},{\"inputs\":[{\"internalType\":\"uint256\",\"name\":\"tokenId\",\"type\":\"uint256\"}],\"name\":\"ownerOf\",\"outputs\":[{\"internalType\":\"address\",\"name\":\"\",\"type\":\"address\"}],\"stateMutability\":\"view\",\"type\":\"function\"},{\"inputs\":[{\"internalType\":\"address\",\"name\":\"spender\",\"type\":\"address\"},{\"internalType\":\"uint256\",\"name\":\"tokenId\",\"type\":\"uint256\"},{\"internalType\":\"uint256\",\"name\":\"deadline\",\"type\":\"uint256\"},{\"internalType\":\"uint8\",\"name\":\"v\",\"type\":\"uint8\"},{\"internalType\":\"bytes32\",\"name\":\"r\",\"type\":\"bytes32\"},{\"internalType\":\"bytes32\",\"name\":\"s\",\"type\":\"bytes32\"}],\"name\":\"permit\",\"outputs\":[],\"stateMutability\":\"payable\",\"type\":\"function\"},{\"inputs\":[{\"internalType\":\"uint256\",\"name\":\"tokenId\",\"type\":\"uint256\"}],\"name\":\"positions\",\"outputs\":[{\"internalType\":\"uint96\",\"name\":\"nonce\",\"type\":\"uint96\"},{\"internalType\":\"address\",\"name\":\"operator\",\"type\":\"address\"},{\"internalType\":\"address\",\"name\":\"token0\",\"type\":\"address\"},{\"internalType\":\"address\",\"name\":\"token1\",\"type\":\"address\"},{\"internalType\":\"uint24\",\"name\":\"fee\",\"type\":\"uint24\"},{\"internalType\":\"int24\",\"name\":\"tickLower\",\"type\":\"int24\"},{\"internalType\":\"int24\",\"name\":\"tickUpper\",\"type\":\"int24\"},{\"internalType\":\"uint128\",\"name\":\"liquidity\",\"type\":\"uint128\"},{\"internalType\":\"uint256\",\"name\":\"feeGrowthInside0LastX128\",\"type\":\"uint256\"},{\"internalType\":\"uint256\",\"name\":\"feeGrowthInside1LastX128\",\"type\":\"uint256\"},{\"internalType\":\"uint128\",\"name\":\"tokensOwed0\",\"type\":\"uint128\"},{\"internalType\":\"uint128\",\"name\":\"tokensOwed1\",\"type\":\"uint128\"}],\"stateMutability\":\"view\",\"type\":\"function\"},{\"inputs\":[],\"name\":\"refundETH\",\"outputs\":[],\"stateMutability\":\"payable\",\"type\":\"function\"},{\"inputs\":[{\"internalType\":\"address\",\"name\":\"from\",\"type\":\"address\"},{\"internalType\":\"address\",\"name\":\"to\",\"type\":\"address\"},{\"internalType\":\"uint256\",\"name\":\"tokenId\",\"type\":\"uint256\"}],\"name\":\"safeTransferFrom\",\"outputs\":[],\"stateMutability\":\"nonpayable\",\"type\":\"function\"},{\"inputs\":[{\"internalType\":\"address\",\"name\":\"from\",\"type\":\"address\"},{\"internalType\":\"address\",\"name\":\"to\",\"type\":\"address\"},{\"internalType\":\"uint256\",\"name\":\"tokenId\",\"type\":\"uint256\"},{\"internalType\":\"bytes\",\"name\":\"_data\",\"type\":\"bytes\"}],\"name\":\"safeTransferFrom\",\"outputs\":[],\"stateMutability\":\"nonpayable\",\"type\":\"function\"},{\"inputs\":[{\"internalType\":\"address\",\"name\":\"token\",\"type\":\"address\"},{\"internalType\":\"uint256\",\"name\":\"value\",\"type\":\"uint256\"},{\"internalType\":\"uint256\",\"name\":\"deadline\",\"type\":\"uint256\"},{\"internalType\":\"uint8\",\"name\":\"v\",\"type\":\"uint8\"},{\"internalType\":\"bytes32\",\"name\":\"r\",\"type\":\"bytes32\"},{\"internalType\":\"bytes32\",\"name\":\"s\",\"type\":\"bytes32\"}],\"name\":\"selfPermit\",\"outputs\":[],\"stateMutability\":\"payable\",\"type\":\"function\"},{\"inputs\":[{\"internalType\":\"address\",\"name\":\"token\",\"type\":\"address\"},{\"internalType\":\"uint256\",\"name\":\"nonce\",\"type\":\"uint256\"},{\"internalType\":\"uint256\",\"name\":\"expiry\",\"type\":\"uint256\"},{\"internalType\":\"uint8\",\"name\":\"v\",\"type\":\"uint8\"},{\"internalType\":\"bytes32\",\"name\":\"r\",\"type\":\"bytes32\"},{\"internalType\":\"bytes32\",\"name\":\"s\",\"type\":\"bytes32\"}],\"name\":\"selfPermitAllowed\",\"outputs\":[],\"stateMutability\":\"payable\",\"type\":\"function\"},{\"inputs\":[{\"internalType\":\"address\",\"name\":\"token\",\"type\":\"address\"},{\"internalType\":\"uint256\",\"name\":\"nonce\",\"type\":\"uint256\"},{\"internalType\":\"uint256\",\"name\":\"expiry\",\"type\":\"uint256\"},{\"internalType\":\"uint8\",\"name\":\"v\",\"type\":\"uint8\"},{\"internalType\":\"bytes32\",\"name\":\"r\",\"type\":\"bytes32\"},{\"internalType\":\"bytes32\",\"name\":\"s\",\"type\":\"bytes32\"}],\"name\":\"selfPermitAllowedIfNecessary\",\"outputs\":[],\"stateMutability\":\"payable\",\"type\":\"function\"},{\"inputs\":[{\"internalType\":\"address\",\"name\":\"token\",\"type\":\"address\"},{\"internalType\":\"uint256\",\"name\":\"value\",\"type\":\"uint256\"},{\"internalType\":\"uint256\",\"name\":\"deadline\",\"type\":\"uint256\"},{\"internalType\":\"uint8\",\"name\":\"v\",\"type\":\"uint8\"},{\"internalType\":\"bytes32\",\"name\":\"r\",\"type\":\"bytes32\"},{\"internalType\":\"bytes32\",\"name\":\"s\",\"type\":\"bytes32\"}],\"name\":\"selfPermitIfNecessary\",\"outputs\":[],\"stateMutability\":\"payable\",\"type\":\"function\"},{\"inputs\":[{\"internalType\":\"address\",\"name\":\"operator\",\"type\":\"address\"},{\"internalType\":\"bool\",\"name\":\"approved\",\"type\":\"bool\"}],\"name\":\"setApprovalForAll\",\"outputs\":[],\"stateMutability\":\"nonpayable\",\"type\":\"function\"},{\"inputs\":[{\"internalType\":\"bytes4\",\"name\":\"interfaceId\",\"type\":\"bytes4\"}],\"name\":\"supportsInterface\",\"outputs\":[{\"internalType\":\"bool\",\"name\":\"\",\"type\":\"bool\"}],\"stateMutability\":\"view\",\"type\":\"function\"},{\"inputs\":[{\"internalType\":\"address\",\"name\":\"token\",\"type\":\"address\"},{\"internalType\":\"uint256\",\"name\":\"amountMinimum\",\"type\":\"uint256\"},{\"internalType\":\"address\",\"name\":\"recipient\",\"type\":\"address\"}],\"name\":\"sweepToken\",\"outputs\":[],\"stateMutability\":\"payable\",\"type\":\"function\"},{\"inputs\":[],\"name\":\"symbol\",\"outputs\":[{\"internalType\":\"string\",\"name\":\"\",\"type\":\"string\"}],\"stateMutability\":\"view\",\"type\":\"function\"},{\"inputs\":[{\"internalType\":\"uint256\",\"name\":\"index\",\"type\":\"uint256\"}],\"name\":\"tokenByIndex\",\"outputs\":[{\"internalType\":\"uint256\",\"name\":\"\",\"type\":\"uint256\"}],\"stateMutability\":\"view\",\"type\":\"function\"},{\"inputs\":[{\"internalType\":\"address\",\"name\":\"owner\",\"type\":\"address\"},{\"internalType\":\"uint256\",\"name\":\"index\",\"type\":\"uint256\"}],\"name\":\"tokenOfOwnerByIndex\",\"outputs\":[{\"internalType\":\"uint256\",\"name\":\"\",\"type\":\"uint256\"}],\"stateMutability\":\"view\",\"type\":\"function\"},{\"inputs\":[{\"internalType\":\"uint256\",\"name\":\"tokenId\",\"type\":\"uint256\"}],\"name\":\"tokenURI\",\"outputs\":[{\"internalType\":\"string\",\"name\":\"\",\"type\":\"string\"}],\"stateMutability\":\"view\",\"type\":\"function\"},{\"inputs\":[],\"name\":\"totalSupply\",\"outputs\":[{\"internalType\":\"uint256\",\"name\":\"\",\"type\":\"uint256\"}],\"stateMutability\":\"view\",\"type\":\"function\"},{\"inputs\":[{\"internalType\":\"address\",\"name\":\"from\",\"type\":\"address\"},{\"internalType\":\"address\",\"name\":\"to\",\"type\":\"address\"},{\"internalType\":\"uint256\",\"name\":\"tokenId\",\"type\":\"uint256\"}],\"name\":\"transferFrom\",\"outputs\":[],\"stateMutability\":\"nonpayable\",\"type\":\"function\"},{\"inputs\":[{\"internalType\":\"uint256\",\"name\":\"amount0Owed\",\"type\":\"uint256\"},{\"internalType\":\"uint256\",\"name\":\"amount1Owed\",\"type\":\"uint256\"},{\"internalType\":\"bytes\",\"name\":\"data\",\"type\":\"bytes\"}],\"name\":\"uniswapV3MintCallback\",\"outputs\":[],\"stateMutability\":\"nonpayable\",\"type\":\"function\"},{\"inputs\":[{\"internalType\":\"uint256\",\"name\":\"amountMinimum\",\"type\":\"uint256\"},{\"internalType\":\"address\",\"name\":\"recipient\",\"type\":\"address\"}],\"name\":\"unwrapWETH9\",\"outputs\":[],\"stateMutability\":\"payable\",\"type\":\"function\"},{\"stateMutability\":\"payable\",\"type\":\"receive\"}]'\n",
        "NFT_POSITIONMANAGER_CONTRACT_ADDRESS = '0xC36442b4a4522E871399CD717aBDD847Ab11FE88'\n",
        "NFT_POSITIONMANAGER_contract_abi = json.loads(NFT_POSITIONMANAGER_CONTRACT_ABI)\n",
        "NFT_POSITIONMANAGER_contract = web3_connection.eth.contract(address=NFT_POSITIONMANAGER_CONTRACT_ADDRESS, abi=NFT_POSITIONMANAGER_contract_abi)"
      ]
    },
    {
      "cell_type": "code",
      "execution_count": 83,
      "metadata": {
        "id": "23Bfi1lihtOG"
      },
      "outputs": [],
      "source": [
        "UNIV3_USDC_WETH_CONTRACT_ABI = '[{\"inputs\":[],\"stateMutability\":\"nonpayable\",\"type\":\"constructor\"},{\"anonymous\":false,\"inputs\":[{\"indexed\":true,\"internalType\":\"address\",\"name\":\"owner\",\"type\":\"address\"},{\"indexed\":true,\"internalType\":\"int24\",\"name\":\"tickLower\",\"type\":\"int24\"},{\"indexed\":true,\"internalType\":\"int24\",\"name\":\"tickUpper\",\"type\":\"int24\"},{\"indexed\":false,\"internalType\":\"uint128\",\"name\":\"amount\",\"type\":\"uint128\"},{\"indexed\":false,\"internalType\":\"uint256\",\"name\":\"amount0\",\"type\":\"uint256\"},{\"indexed\":false,\"internalType\":\"uint256\",\"name\":\"amount1\",\"type\":\"uint256\"}],\"name\":\"Burn\",\"type\":\"event\"},{\"anonymous\":false,\"inputs\":[{\"indexed\":true,\"internalType\":\"address\",\"name\":\"owner\",\"type\":\"address\"},{\"indexed\":false,\"internalType\":\"address\",\"name\":\"recipient\",\"type\":\"address\"},{\"indexed\":true,\"internalType\":\"int24\",\"name\":\"tickLower\",\"type\":\"int24\"},{\"indexed\":true,\"internalType\":\"int24\",\"name\":\"tickUpper\",\"type\":\"int24\"},{\"indexed\":false,\"internalType\":\"uint128\",\"name\":\"amount0\",\"type\":\"uint128\"},{\"indexed\":false,\"internalType\":\"uint128\",\"name\":\"amount1\",\"type\":\"uint128\"}],\"name\":\"Collect\",\"type\":\"event\"},{\"anonymous\":false,\"inputs\":[{\"indexed\":true,\"internalType\":\"address\",\"name\":\"sender\",\"type\":\"address\"},{\"indexed\":true,\"internalType\":\"address\",\"name\":\"recipient\",\"type\":\"address\"},{\"indexed\":false,\"internalType\":\"uint128\",\"name\":\"amount0\",\"type\":\"uint128\"},{\"indexed\":false,\"internalType\":\"uint128\",\"name\":\"amount1\",\"type\":\"uint128\"}],\"name\":\"CollectProtocol\",\"type\":\"event\"},{\"anonymous\":false,\"inputs\":[{\"indexed\":true,\"internalType\":\"address\",\"name\":\"sender\",\"type\":\"address\"},{\"indexed\":true,\"internalType\":\"address\",\"name\":\"recipient\",\"type\":\"address\"},{\"indexed\":false,\"internalType\":\"uint256\",\"name\":\"amount0\",\"type\":\"uint256\"},{\"indexed\":false,\"internalType\":\"uint256\",\"name\":\"amount1\",\"type\":\"uint256\"},{\"indexed\":false,\"internalType\":\"uint256\",\"name\":\"paid0\",\"type\":\"uint256\"},{\"indexed\":false,\"internalType\":\"uint256\",\"name\":\"paid1\",\"type\":\"uint256\"}],\"name\":\"Flash\",\"type\":\"event\"},{\"anonymous\":false,\"inputs\":[{\"indexed\":false,\"internalType\":\"uint16\",\"name\":\"observationCardinalityNextOld\",\"type\":\"uint16\"},{\"indexed\":false,\"internalType\":\"uint16\",\"name\":\"observationCardinalityNextNew\",\"type\":\"uint16\"}],\"name\":\"IncreaseObservationCardinalityNext\",\"type\":\"event\"},{\"anonymous\":false,\"inputs\":[{\"indexed\":false,\"internalType\":\"uint160\",\"name\":\"sqrtPriceX96\",\"type\":\"uint160\"},{\"indexed\":false,\"internalType\":\"int24\",\"name\":\"tick\",\"type\":\"int24\"}],\"name\":\"Initialize\",\"type\":\"event\"},{\"anonymous\":false,\"inputs\":[{\"indexed\":false,\"internalType\":\"address\",\"name\":\"sender\",\"type\":\"address\"},{\"indexed\":true,\"internalType\":\"address\",\"name\":\"owner\",\"type\":\"address\"},{\"indexed\":true,\"internalType\":\"int24\",\"name\":\"tickLower\",\"type\":\"int24\"},{\"indexed\":true,\"internalType\":\"int24\",\"name\":\"tickUpper\",\"type\":\"int24\"},{\"indexed\":false,\"internalType\":\"uint128\",\"name\":\"amount\",\"type\":\"uint128\"},{\"indexed\":false,\"internalType\":\"uint256\",\"name\":\"amount0\",\"type\":\"uint256\"},{\"indexed\":false,\"internalType\":\"uint256\",\"name\":\"amount1\",\"type\":\"uint256\"}],\"name\":\"Mint\",\"type\":\"event\"},{\"anonymous\":false,\"inputs\":[{\"indexed\":false,\"internalType\":\"uint8\",\"name\":\"feeProtocol0Old\",\"type\":\"uint8\"},{\"indexed\":false,\"internalType\":\"uint8\",\"name\":\"feeProtocol1Old\",\"type\":\"uint8\"},{\"indexed\":false,\"internalType\":\"uint8\",\"name\":\"feeProtocol0New\",\"type\":\"uint8\"},{\"indexed\":false,\"internalType\":\"uint8\",\"name\":\"feeProtocol1New\",\"type\":\"uint8\"}],\"name\":\"SetFeeProtocol\",\"type\":\"event\"},{\"anonymous\":false,\"inputs\":[{\"indexed\":true,\"internalType\":\"address\",\"name\":\"sender\",\"type\":\"address\"},{\"indexed\":true,\"internalType\":\"address\",\"name\":\"recipient\",\"type\":\"address\"},{\"indexed\":false,\"internalType\":\"int256\",\"name\":\"amount0\",\"type\":\"int256\"},{\"indexed\":false,\"internalType\":\"int256\",\"name\":\"amount1\",\"type\":\"int256\"},{\"indexed\":false,\"internalType\":\"uint160\",\"name\":\"sqrtPriceX96\",\"type\":\"uint160\"},{\"indexed\":false,\"internalType\":\"uint128\",\"name\":\"liquidity\",\"type\":\"uint128\"},{\"indexed\":false,\"internalType\":\"int24\",\"name\":\"tick\",\"type\":\"int24\"}],\"name\":\"Swap\",\"type\":\"event\"},{\"inputs\":[{\"internalType\":\"int24\",\"name\":\"tickLower\",\"type\":\"int24\"},{\"internalType\":\"int24\",\"name\":\"tickUpper\",\"type\":\"int24\"},{\"internalType\":\"uint128\",\"name\":\"amount\",\"type\":\"uint128\"}],\"name\":\"burn\",\"outputs\":[{\"internalType\":\"uint256\",\"name\":\"amount0\",\"type\":\"uint256\"},{\"internalType\":\"uint256\",\"name\":\"amount1\",\"type\":\"uint256\"}],\"stateMutability\":\"nonpayable\",\"type\":\"function\"},{\"inputs\":[{\"internalType\":\"address\",\"name\":\"recipient\",\"type\":\"address\"},{\"internalType\":\"int24\",\"name\":\"tickLower\",\"type\":\"int24\"},{\"internalType\":\"int24\",\"name\":\"tickUpper\",\"type\":\"int24\"},{\"internalType\":\"uint128\",\"name\":\"amount0Requested\",\"type\":\"uint128\"},{\"internalType\":\"uint128\",\"name\":\"amount1Requested\",\"type\":\"uint128\"}],\"name\":\"collect\",\"outputs\":[{\"internalType\":\"uint128\",\"name\":\"amount0\",\"type\":\"uint128\"},{\"internalType\":\"uint128\",\"name\":\"amount1\",\"type\":\"uint128\"}],\"stateMutability\":\"nonpayable\",\"type\":\"function\"},{\"inputs\":[{\"internalType\":\"address\",\"name\":\"recipient\",\"type\":\"address\"},{\"internalType\":\"uint128\",\"name\":\"amount0Requested\",\"type\":\"uint128\"},{\"internalType\":\"uint128\",\"name\":\"amount1Requested\",\"type\":\"uint128\"}],\"name\":\"collectProtocol\",\"outputs\":[{\"internalType\":\"uint128\",\"name\":\"amount0\",\"type\":\"uint128\"},{\"internalType\":\"uint128\",\"name\":\"amount1\",\"type\":\"uint128\"}],\"stateMutability\":\"nonpayable\",\"type\":\"function\"},{\"inputs\":[],\"name\":\"factory\",\"outputs\":[{\"internalType\":\"address\",\"name\":\"\",\"type\":\"address\"}],\"stateMutability\":\"view\",\"type\":\"function\"},{\"inputs\":[],\"name\":\"fee\",\"outputs\":[{\"internalType\":\"uint24\",\"name\":\"\",\"type\":\"uint24\"}],\"stateMutability\":\"view\",\"type\":\"function\"},{\"inputs\":[],\"name\":\"feeGrowthGlobal0X128\",\"outputs\":[{\"internalType\":\"uint256\",\"name\":\"\",\"type\":\"uint256\"}],\"stateMutability\":\"view\",\"type\":\"function\"},{\"inputs\":[],\"name\":\"feeGrowthGlobal1X128\",\"outputs\":[{\"internalType\":\"uint256\",\"name\":\"\",\"type\":\"uint256\"}],\"stateMutability\":\"view\",\"type\":\"function\"},{\"inputs\":[{\"internalType\":\"address\",\"name\":\"recipient\",\"type\":\"address\"},{\"internalType\":\"uint256\",\"name\":\"amount0\",\"type\":\"uint256\"},{\"internalType\":\"uint256\",\"name\":\"amount1\",\"type\":\"uint256\"},{\"internalType\":\"bytes\",\"name\":\"data\",\"type\":\"bytes\"}],\"name\":\"flash\",\"outputs\":[],\"stateMutability\":\"nonpayable\",\"type\":\"function\"},{\"inputs\":[{\"internalType\":\"uint16\",\"name\":\"observationCardinalityNext\",\"type\":\"uint16\"}],\"name\":\"increaseObservationCardinalityNext\",\"outputs\":[],\"stateMutability\":\"nonpayable\",\"type\":\"function\"},{\"inputs\":[{\"internalType\":\"uint160\",\"name\":\"sqrtPriceX96\",\"type\":\"uint160\"}],\"name\":\"initialize\",\"outputs\":[],\"stateMutability\":\"nonpayable\",\"type\":\"function\"},{\"inputs\":[],\"name\":\"liquidity\",\"outputs\":[{\"internalType\":\"uint128\",\"name\":\"\",\"type\":\"uint128\"}],\"stateMutability\":\"view\",\"type\":\"function\"},{\"inputs\":[],\"name\":\"maxLiquidityPerTick\",\"outputs\":[{\"internalType\":\"uint128\",\"name\":\"\",\"type\":\"uint128\"}],\"stateMutability\":\"view\",\"type\":\"function\"},{\"inputs\":[{\"internalType\":\"address\",\"name\":\"recipient\",\"type\":\"address\"},{\"internalType\":\"int24\",\"name\":\"tickLower\",\"type\":\"int24\"},{\"internalType\":\"int24\",\"name\":\"tickUpper\",\"type\":\"int24\"},{\"internalType\":\"uint128\",\"name\":\"amount\",\"type\":\"uint128\"},{\"internalType\":\"bytes\",\"name\":\"data\",\"type\":\"bytes\"}],\"name\":\"mint\",\"outputs\":[{\"internalType\":\"uint256\",\"name\":\"amount0\",\"type\":\"uint256\"},{\"internalType\":\"uint256\",\"name\":\"amount1\",\"type\":\"uint256\"}],\"stateMutability\":\"nonpayable\",\"type\":\"function\"},{\"inputs\":[{\"internalType\":\"uint256\",\"name\":\"\",\"type\":\"uint256\"}],\"name\":\"observations\",\"outputs\":[{\"internalType\":\"uint32\",\"name\":\"blockTimestamp\",\"type\":\"uint32\"},{\"internalType\":\"int56\",\"name\":\"tickCumulative\",\"type\":\"int56\"},{\"internalType\":\"uint160\",\"name\":\"secondsPerLiquidityCumulativeX128\",\"type\":\"uint160\"},{\"internalType\":\"bool\",\"name\":\"initialized\",\"type\":\"bool\"}],\"stateMutability\":\"view\",\"type\":\"function\"},{\"inputs\":[{\"internalType\":\"uint32[]\",\"name\":\"secondsAgos\",\"type\":\"uint32[]\"}],\"name\":\"observe\",\"outputs\":[{\"internalType\":\"int56[]\",\"name\":\"tickCumulatives\",\"type\":\"int56[]\"},{\"internalType\":\"uint160[]\",\"name\":\"secondsPerLiquidityCumulativeX128s\",\"type\":\"uint160[]\"}],\"stateMutability\":\"view\",\"type\":\"function\"},{\"inputs\":[{\"internalType\":\"bytes32\",\"name\":\"\",\"type\":\"bytes32\"}],\"name\":\"positions\",\"outputs\":[{\"internalType\":\"uint128\",\"name\":\"liquidity\",\"type\":\"uint128\"},{\"internalType\":\"uint256\",\"name\":\"feeGrowthInside0LastX128\",\"type\":\"uint256\"},{\"internalType\":\"uint256\",\"name\":\"feeGrowthInside1LastX128\",\"type\":\"uint256\"},{\"internalType\":\"uint128\",\"name\":\"tokensOwed0\",\"type\":\"uint128\"},{\"internalType\":\"uint128\",\"name\":\"tokensOwed1\",\"type\":\"uint128\"}],\"stateMutability\":\"view\",\"type\":\"function\"},{\"inputs\":[],\"name\":\"protocolFees\",\"outputs\":[{\"internalType\":\"uint128\",\"name\":\"token0\",\"type\":\"uint128\"},{\"internalType\":\"uint128\",\"name\":\"token1\",\"type\":\"uint128\"}],\"stateMutability\":\"view\",\"type\":\"function\"},{\"inputs\":[{\"internalType\":\"uint8\",\"name\":\"feeProtocol0\",\"type\":\"uint8\"},{\"internalType\":\"uint8\",\"name\":\"feeProtocol1\",\"type\":\"uint8\"}],\"name\":\"setFeeProtocol\",\"outputs\":[],\"stateMutability\":\"nonpayable\",\"type\":\"function\"},{\"inputs\":[],\"name\":\"slot0\",\"outputs\":[{\"internalType\":\"uint160\",\"name\":\"sqrtPriceX96\",\"type\":\"uint160\"},{\"internalType\":\"int24\",\"name\":\"tick\",\"type\":\"int24\"},{\"internalType\":\"uint16\",\"name\":\"observationIndex\",\"type\":\"uint16\"},{\"internalType\":\"uint16\",\"name\":\"observationCardinality\",\"type\":\"uint16\"},{\"internalType\":\"uint16\",\"name\":\"observationCardinalityNext\",\"type\":\"uint16\"},{\"internalType\":\"uint8\",\"name\":\"feeProtocol\",\"type\":\"uint8\"},{\"internalType\":\"bool\",\"name\":\"unlocked\",\"type\":\"bool\"}],\"stateMutability\":\"view\",\"type\":\"function\"},{\"inputs\":[{\"internalType\":\"int24\",\"name\":\"tickLower\",\"type\":\"int24\"},{\"internalType\":\"int24\",\"name\":\"tickUpper\",\"type\":\"int24\"}],\"name\":\"snapshotCumulativesInside\",\"outputs\":[{\"internalType\":\"int56\",\"name\":\"tickCumulativeInside\",\"type\":\"int56\"},{\"internalType\":\"uint160\",\"name\":\"secondsPerLiquidityInsideX128\",\"type\":\"uint160\"},{\"internalType\":\"uint32\",\"name\":\"secondsInside\",\"type\":\"uint32\"}],\"stateMutability\":\"view\",\"type\":\"function\"},{\"inputs\":[{\"internalType\":\"address\",\"name\":\"recipient\",\"type\":\"address\"},{\"internalType\":\"bool\",\"name\":\"zeroForOne\",\"type\":\"bool\"},{\"internalType\":\"int256\",\"name\":\"amountSpecified\",\"type\":\"int256\"},{\"internalType\":\"uint160\",\"name\":\"sqrtPriceLimitX96\",\"type\":\"uint160\"},{\"internalType\":\"bytes\",\"name\":\"data\",\"type\":\"bytes\"}],\"name\":\"swap\",\"outputs\":[{\"internalType\":\"int256\",\"name\":\"amount0\",\"type\":\"int256\"},{\"internalType\":\"int256\",\"name\":\"amount1\",\"type\":\"int256\"}],\"stateMutability\":\"nonpayable\",\"type\":\"function\"},{\"inputs\":[{\"internalType\":\"int16\",\"name\":\"\",\"type\":\"int16\"}],\"name\":\"tickBitmap\",\"outputs\":[{\"internalType\":\"uint256\",\"name\":\"\",\"type\":\"uint256\"}],\"stateMutability\":\"view\",\"type\":\"function\"},{\"inputs\":[],\"name\":\"tickSpacing\",\"outputs\":[{\"internalType\":\"int24\",\"name\":\"\",\"type\":\"int24\"}],\"stateMutability\":\"view\",\"type\":\"function\"},{\"inputs\":[{\"internalType\":\"int24\",\"name\":\"\",\"type\":\"int24\"}],\"name\":\"ticks\",\"outputs\":[{\"internalType\":\"uint128\",\"name\":\"liquidityGross\",\"type\":\"uint128\"},{\"internalType\":\"int128\",\"name\":\"liquidityNet\",\"type\":\"int128\"},{\"internalType\":\"uint256\",\"name\":\"feeGrowthOutside0X128\",\"type\":\"uint256\"},{\"internalType\":\"uint256\",\"name\":\"feeGrowthOutside1X128\",\"type\":\"uint256\"},{\"internalType\":\"int56\",\"name\":\"tickCumulativeOutside\",\"type\":\"int56\"},{\"internalType\":\"uint160\",\"name\":\"secondsPerLiquidityOutsideX128\",\"type\":\"uint160\"},{\"internalType\":\"uint32\",\"name\":\"secondsOutside\",\"type\":\"uint32\"},{\"internalType\":\"bool\",\"name\":\"initialized\",\"type\":\"bool\"}],\"stateMutability\":\"view\",\"type\":\"function\"},{\"inputs\":[],\"name\":\"token0\",\"outputs\":[{\"internalType\":\"address\",\"name\":\"\",\"type\":\"address\"}],\"stateMutability\":\"view\",\"type\":\"function\"},{\"inputs\":[],\"name\":\"token1\",\"outputs\":[{\"internalType\":\"address\",\"name\":\"\",\"type\":\"address\"}],\"stateMutability\":\"view\",\"type\":\"function\"}]'\n",
        "UNIV3_USDC_WETH_CONTRACT_ADDRESS = '0x88e6A0c2dDD26FEEb64F039a2c41296FcB3f5640'\n",
        "UNIV3_USDC_WETH_contract_abi = json.loads(UNIV3_USDC_WETH_CONTRACT_ABI)\n",
        "UNIV3_USDC_WETH_contract = web3_connection.eth.contract(address=UNIV3_USDC_WETH_CONTRACT_ADDRESS, abi=UNIV3_USDC_WETH_contract_abi)"
      ]
    },
    {
      "cell_type": "markdown",
      "metadata": {
        "id": "C6jzbmDf8KY4"
      },
      "source": [
        "We start by querying events so we query how much liquidity we add and at what block. Then we query when we decrease, how much liquidity we pull out."
      ]
    },
    {
      "cell_type": "code",
      "execution_count": 84,
      "metadata": {
        "id": "skMNiRG9hvKQ"
      },
      "outputs": [],
      "source": [
        "latest = web3_connection.eth.get_block_number()\n",
        "event_filter = NFT_POSITIONMANAGER_contract.events.IncreaseLiquidity.create_filter(fromBlock=0, toBlock=latest, argument_filters = {'tokenId': tokenID})\n",
        "res = event_filter.get_all_entries()"
      ]
    },
    {
      "cell_type": "code",
      "execution_count": 85,
      "metadata": {
        "id": "r7BzEd0ahwjB"
      },
      "outputs": [],
      "source": [
        "event_filter = NFT_POSITIONMANAGER_contract.events.DecreaseLiquidity.create_filter(fromBlock=0, toBlock=latest, argument_filters = {'tokenId': tokenID})\n",
        "res2 = event_filter.get_all_entries()"
      ]
    },
    {
      "cell_type": "markdown",
      "metadata": {
        "id": "k9lw2x_j8dVu"
      },
      "source": [
        "Call collect event. Collect event contains the funds we pulled out plus the interest. Some actions trigger events which are recorded on chain. Transactions on Eth scan."
      ]
    },
    {
      "cell_type": "code",
      "execution_count": 86,
      "metadata": {
        "id": "JqCagUQ-hyV5"
      },
      "outputs": [],
      "source": [
        "if len(res2) == 0:\n",
        "    endTime = datetime.datetime.now().replace(microsecond=0)\n",
        "else:\n",
        "    blockNumber_end = res2[-1]['blockNumber']\n",
        "    liquidity_end = NFT_POSITIONMANAGER_contract.functions.positions(tokenID).call(block_identifier=blockNumber_end)[7]\n",
        "    if liquidity_end == 0:\n",
        "        endTime = datetime.datetime.fromtimestamp(web3_connection.eth.get_block(blockNumber_end).timestamp)\n",
        "        event_filter = NFT_POSITIONMANAGER_contract.events.Collect.create_filter(fromBlock=0, toBlock=latest, argument_filters = {'tokenId': tokenID})\n",
        "        res3 = event_filter.get_all_entries()\n",
        "        amount0_burned = res2[-1]['args']['amount0']\n",
        "        amount1_burned = res2[-1]['args']['amount1']\n",
        "        amount0_collected = res3[-1]['args']['amount0']\n",
        "        amount1_collected = res3[-1]['args']['amount1']\n",
        "    else:\n",
        "        endTime = datetime.datetime.now().replace(microsecond=0)"
      ]
    },
    {
      "cell_type": "code",
      "execution_count": 87,
      "metadata": {
        "colab": {
          "base_uri": "https://localhost:8080/"
        },
        "id": "NeuMb-Mq-PlM",
        "outputId": "3a615816-8caf-49fb-d314-257728e3e5c2"
      },
      "outputs": [
        {
          "data": {
            "text/plain": [
              "[AttributeDict({'args': AttributeDict({'tokenId': 443940,\n",
              "   'liquidity': 103439868918316624,\n",
              "   'amount0': 363690660090,\n",
              "   'amount1': 134466247366972544513}),\n",
              "  'event': 'IncreaseLiquidity',\n",
              "  'logIndex': 114,\n",
              "  'transactionIndex': 96,\n",
              "  'transactionHash': HexBytes('0xcbc29d459ba245caca9333d2637e67008a488cd391412af03edf50373375605a'),\n",
              "  'address': '0xC36442b4a4522E871399CD717aBDD847Ab11FE88',\n",
              "  'blockHash': HexBytes('0xceb2a88c1bbe935af813b403635ce72488d89519506751f80c2e01d8fad17634'),\n",
              "  'blockNumber': 16649482}),\n",
              " AttributeDict({'args': AttributeDict({'tokenId': 443940,\n",
              "   'liquidity': 97906436693542446,\n",
              "   'amount0': 337527596392,\n",
              "   'amount1': 131283965578543240497}),\n",
              "  'event': 'IncreaseLiquidity',\n",
              "  'logIndex': 219,\n",
              "  'transactionIndex': 140,\n",
              "  'transactionHash': HexBytes('0xa1ca7fdb949782eee0f5230895287b05ee13ffeb1a8e9d16bfc8a12e33751a4d'),\n",
              "  'address': '0xC36442b4a4522E871399CD717aBDD847Ab11FE88',\n",
              "  'blockHash': HexBytes('0x992ccfeb6f6e169cc1d00ab36ff1933a9793762453d2a73d8f9bf50c54b9acf7'),\n",
              "  'blockNumber': 16676781}),\n",
              " AttributeDict({'args': AttributeDict({'tokenId': 443940,\n",
              "   'liquidity': 43039822261737742,\n",
              "   'amount0': 149577425186,\n",
              "   'amount1': 56994522665839545943}),\n",
              "  'event': 'IncreaseLiquidity',\n",
              "  'logIndex': 139,\n",
              "  'transactionIndex': 66,\n",
              "  'transactionHash': HexBytes('0x8381dc2e457df0a5ef583d41185578a9309981227c199ab6ddc149ada8a91217'),\n",
              "  'address': '0xC36442b4a4522E871399CD717aBDD847Ab11FE88',\n",
              "  'blockHash': HexBytes('0x5b16024b280f744b4ad5a19cb3bd14b70138961e2cf03918a5c1bddba77d3895'),\n",
              "  'blockNumber': 16676850})]"
            ]
          },
          "execution_count": 87,
          "metadata": {},
          "output_type": "execute_result"
        }
      ],
      "source": [
        "res"
      ]
    },
    {
      "cell_type": "code",
      "execution_count": 88,
      "metadata": {
        "colab": {
          "base_uri": "https://localhost:8080/"
        },
        "id": "8zbCXpFw_1AB",
        "outputId": "ba10d5fd-0d70-491d-9d3f-4a0a4f01b93e"
      },
      "outputs": [
        {
          "data": {
            "text/plain": [
              "[AttributeDict({'args': AttributeDict({'tokenId': 443940,\n",
              "   'recipient': '0xC36442b4a4522E871399CD717aBDD847Ab11FE88',\n",
              "   'amount0': 762211345158,\n",
              "   'amount1': 383828174279807677732}),\n",
              "  'event': 'Collect',\n",
              "  'logIndex': 83,\n",
              "  'transactionIndex': 62,\n",
              "  'transactionHash': HexBytes('0x80ddcac747826b98ee98a01552b1846fe462f28ff35a164995f3a5d5d4dc62e2'),\n",
              "  'address': '0xC36442b4a4522E871399CD717aBDD847Ab11FE88',\n",
              "  'blockHash': HexBytes('0x9085241bb4bfb3304f0dfa88e7494134bd72fcfd8a489a05be74e13cfc0c4e56'),\n",
              "  'blockNumber': 16719418})]"
            ]
          },
          "execution_count": 88,
          "metadata": {},
          "output_type": "execute_result"
        }
      ],
      "source": [
        "res3"
      ]
    },
    {
      "cell_type": "markdown",
      "metadata": {
        "id": "N4rGBIyX9Fif"
      },
      "source": [
        "Query transaction hash (view on etherscan) - view the events.\n"
      ]
    },
    {
      "cell_type": "code",
      "execution_count": 89,
      "metadata": {
        "id": "mWDFknonh59J"
      },
      "outputs": [],
      "source": [
        "dates = [endTime]\n",
        "blockNumber_start = res[0]['blockNumber']\n",
        "startTime = datetime.datetime.fromtimestamp(web3_connection.eth.get_block(blockNumber_start).timestamp)\n",
        "startDate = (startTime+datetime.timedelta(1)).replace(minute=0, hour=0, second=0, microsecond=0)\n",
        "dates = list(pd.date_range(startDate, endTime).to_pydatetime()) + [endTime]\n",
        "for result in res:\n",
        "    mint_date = datetime.datetime.fromtimestamp(web3_connection.eth.get_block(result['blockNumber']).timestamp)\n",
        "    dates.append(mint_date)\n",
        "dates = np.sort(list(set(dates)))"
      ]
    },
    {
      "cell_type": "code",
      "execution_count": 90,
      "metadata": {
        "id": "bUbfD9jkh8KZ"
      },
      "outputs": [],
      "source": [
        "fees_USDC = []\n",
        "fees_WETH = []\n",
        "liquidity_USDC = []\n",
        "liquidity_WETH = []\n",
        "sqrtPriceX96_array = []\n",
        "\n",
        "for date in dates:\n",
        "\n",
        "    #Moralis: Get blocknumber from date\n",
        "    #https://docs.moralis.io/web3-data-api/reference/get-date-to-block\n",
        "\n",
        "    api_key = \"zWUKbN72Ae3VcnbnUzXUg0wfIHUglQ5pGpGElmOgM2eMypBmaRB0DWwr2tDhk9HI\"\n",
        "    params = {\n",
        "        \"date\": date,\n",
        "        \"chain\": \"eth\",\n",
        "    }\n",
        "\n",
        "    result = evm_api.block.get_date_to_block(\n",
        "        api_key=api_key,\n",
        "        params=params,\n",
        "    )\n",
        "\n",
        "    position = NFT_POSITIONMANAGER_contract.functions.positions(tokenID).call(block_identifier=result['block'])\n",
        "    lowerTick = position[5]\n",
        "    upperTick = position[6]\n",
        "    liquidity = position[7]\n",
        "    feeGrowthInside0LastX128 = position[8]\n",
        "    feeGrowthInside1LastX128 = position[9]\n",
        "\n",
        "    feeGrowthGlobal0X128 = UNIV3_USDC_WETH_contract.functions.feeGrowthGlobal0X128().call(block_identifier=result['block'])\n",
        "    feeGrowthGlobal1X128 = UNIV3_USDC_WETH_contract.functions.feeGrowthGlobal1X128().call(block_identifier=result['block'])\n",
        "    UNIV3_USDC_WETH_contract_lowerTick = UNIV3_USDC_WETH_contract.functions.ticks(lowerTick).call(block_identifier=result['block'])\n",
        "    feeGrowthOutside0X128_LowerTick = UNIV3_USDC_WETH_contract_lowerTick[2]\n",
        "    feeGrowthOutside1X128_LowerTick = UNIV3_USDC_WETH_contract_lowerTick[3]\n",
        "    UNIV3_USDC_WETH_contract_upperTick = UNIV3_USDC_WETH_contract.functions.ticks(upperTick).call(block_identifier=result['block'])\n",
        "    feeGrowthOutside0X128_UpperTick = UNIV3_USDC_WETH_contract_upperTick[2]\n",
        "    feeGrowthOutside1X128_UpperTick = UNIV3_USDC_WETH_contract_upperTick[3]\n",
        "    slot0 = UNIV3_USDC_WETH_contract.functions.slot0().call(block_identifier=result['block'])\n",
        "    sqrtPriceX96 = slot0[0]\n",
        "    currentTick = slot0[1]\n",
        "\n",
        "    if currentTick >= lowerTick:\n",
        "        feeGrowthBelow0X128 = feeGrowthOutside0X128_LowerTick\n",
        "        feeGrowthBelow1X128 = feeGrowthOutside1X128_LowerTick\n",
        "    else:\n",
        "        feeGrowthBelow0X128 = feeGrowthGlobal0X128 - feeGrowthOutside0X128_LowerTick\n",
        "        feeGrowthBelow1X128 = feeGrowthGlobal1X128 - feeGrowthOutside1X128_LowerTick\n",
        "\n",
        "    if currentTick < upperTick:\n",
        "        feeGrowthAbove0X128 = feeGrowthOutside0X128_UpperTick\n",
        "        feeGrowthAbove1X128 = feeGrowthOutside1X128_UpperTick\n",
        "    else:\n",
        "        feeGrowthAbove0X128 = feeGrowthGlobal0X128 - feeGrowthOutside0X128_UpperTick\n",
        "        feeGrowthAbove1X128 = feeGrowthGlobal1X128 - feeGrowthOutside1X128_UpperTick\n",
        "\n",
        "    fees0X128 = (feeGrowthGlobal0X128 - feeGrowthBelow0X128 - feeGrowthAbove0X128 - feeGrowthInside0LastX128) % 2**256\n",
        "    fees1X128 = (feeGrowthGlobal1X128 - feeGrowthBelow1X128 - feeGrowthAbove1X128 - feeGrowthInside1LastX128) % 2**256\n",
        "\n",
        "    tokensOwed0 = position[10]\n",
        "    tokensOwed1 = position[11]\n",
        "\n",
        "    fees_USDC.append(fees0X128/2**128*liquidity/10**decimals_USDC + tokensOwed0/10**decimals_USDC)\n",
        "    fees_WETH.append(fees1X128/2**128*liquidity/10**decimals_WETH + tokensOwed1/10**decimals_WETH)\n",
        "\n",
        "    if currentTick < lowerTick:\n",
        "        liquidity_token0 = liquidity*(1/np.sqrt(1.0001**lowerTick) - 1/np.sqrt(1.0001**upperTick))\n",
        "        liquidity_token1 = 0\n",
        "    elif currentTick >= upperTick:\n",
        "        liquidity_token0 = 0\n",
        "        liquidity_token1 = liquidity*(np.sqrt(1.0001**upperTick) - np.sqrt(1.0001**lowerTick))\n",
        "    else:\n",
        "        liquidity_token0 = liquidity*(1/(sqrtPriceX96/2**96) - 1/np.sqrt(1.0001**upperTick))\n",
        "        liquidity_token1 = liquidity*(sqrtPriceX96/2**96 - np.sqrt(1.0001**lowerTick))\n",
        "\n",
        "    liquidity_USDC.append(liquidity_token0/10**decimals_USDC)\n",
        "    liquidity_WETH.append(liquidity_token1/10**decimals_WETH)\n",
        "\n",
        "    sqrtPriceX96_array.append(sqrtPriceX96)"
      ]
    },
    {
      "cell_type": "code",
      "execution_count": 91,
      "metadata": {
        "id": "04swiMmNihk7"
      },
      "outputs": [],
      "source": [
        "fees_daily = pd.DataFrame()\n",
        "fees_daily[\"Date\"] = dates\n",
        "fees_daily[\"Fees USDC\"] = fees_USDC\n",
        "fees_daily[\"Fees WETH\"] = fees_WETH\n",
        "fees_daily[\"Liquidity USDC added\"] = 0\n",
        "fees_daily[\"Liquidity WETH added\"] = 0\n",
        "fees_daily[\"Liquidity USDC\"] = liquidity_USDC\n",
        "fees_daily[\"Liquidity WETH\"] = liquidity_WETH\n",
        "\n",
        "\n",
        "\n",
        "for result in res:\n",
        "    mint_date = datetime.datetime.fromtimestamp(web3_connection.eth.get_block(result['blockNumber']).timestamp)\n",
        "    fees_daily.loc[fees_daily[\"Date\"] == mint_date, \"Liquidity USDC added\"] = result['args']['amount0']/10**decimals_USDC\n",
        "    fees_daily.loc[fees_daily[\"Date\"] == mint_date, \"Liquidity WETH added\"] = result['args']['amount1']/10**decimals_WETH\n",
        "\n",
        "\n",
        "\n",
        "if len(res2) > 0:\n",
        "    if liquidity_end == 0:\n",
        "        #update values for the block when LP is removed\n",
        "        fees_daily.loc[fees_daily[\"Date\"] == endTime, \"Fees USDC\"] = (amount0_collected - amount0_burned)/10**decimals_USDC\n",
        "        fees_daily.loc[fees_daily[\"Date\"] == endTime, \"Fees WETH\"] = (amount1_collected - amount1_burned)/10**decimals_WETH\n",
        "        fees_daily.loc[fees_daily[\"Date\"] == endTime, \"Liquidity USDC\"] = amount0_burned/10**decimals_USDC\n",
        "        fees_daily.loc[fees_daily[\"Date\"] == endTime, \"Liquidity WETH\"] = amount1_burned/10**decimals_WETH\n",
        "\n",
        "fees_daily[\"Price WETH/USDC\"] = 1/((np.array(sqrtPriceX96_array)/2**96)**2 * 10**(decimals_USDC-decimals_WETH))\n",
        "fees_daily[\"Liquidity added USDC converted\"] = fees_daily[\"Liquidity USDC added\"] + fees_daily[\"Liquidity WETH added\"] * fees_daily[\"Price WETH/USDC\"]\n",
        "fees_daily[\"Portfolio USDC converted\"] = fees_daily[\"Fees USDC\"] + fees_daily[\"Liquidity USDC\"] + (fees_daily[\"Fees WETH\"] + fees_daily[\"Liquidity WETH\"])  * fees_daily[\"Price WETH/USDC\"]\n",
        "fees_daily[\"Fees USDC converted\"] = fees_daily[\"Fees USDC\"] + fees_daily[\"Fees WETH\"] * fees_daily[\"Price WETH/USDC\"]"
      ]
    },
    {
      "cell_type": "code",
      "execution_count": 92,
      "metadata": {
        "colab": {
          "base_uri": "https://localhost:8080/",
          "height": 1000
        },
        "id": "JKIdMdsRillx",
        "outputId": "b33dd76e-585b-4966-e60c-4fbecc1d0750"
      },
      "outputs": [
        {
          "data": {
            "text/html": [
              "<div>\n",
              "<style scoped>\n",
              "    .dataframe tbody tr th:only-of-type {\n",
              "        vertical-align: middle;\n",
              "    }\n",
              "\n",
              "    .dataframe tbody tr th {\n",
              "        vertical-align: top;\n",
              "    }\n",
              "\n",
              "    .dataframe thead th {\n",
              "        text-align: right;\n",
              "    }\n",
              "</style>\n",
              "<table border=\"1\" class=\"dataframe\">\n",
              "  <thead>\n",
              "    <tr style=\"text-align: right;\">\n",
              "      <th></th>\n",
              "      <th>Date</th>\n",
              "      <th>Fees USDC</th>\n",
              "      <th>Fees WETH</th>\n",
              "      <th>Liquidity USDC added</th>\n",
              "      <th>Liquidity WETH added</th>\n",
              "      <th>Liquidity USDC</th>\n",
              "      <th>Liquidity WETH</th>\n",
              "      <th>Price WETH/USDC</th>\n",
              "      <th>Liquidity added USDC converted</th>\n",
              "      <th>Portfolio USDC converted</th>\n",
              "      <th>Fees USDC converted</th>\n",
              "    </tr>\n",
              "  </thead>\n",
              "  <tbody>\n",
              "    <tr>\n",
              "      <th>0</th>\n",
              "      <td>2023-02-17 16:02:47</td>\n",
              "      <td>0.000000</td>\n",
              "      <td>0.000000</td>\n",
              "      <td>363690.660090</td>\n",
              "      <td>134.466247</td>\n",
              "      <td>363690.660086</td>\n",
              "      <td>134.466247</td>\n",
              "      <td>1675.186023</td>\n",
              "      <td>588946.638251</td>\n",
              "      <td>588946.638251</td>\n",
              "      <td>0.0</td>\n",
              "    </tr>\n",
              "    <tr>\n",
              "      <th>1</th>\n",
              "      <td>2023-02-18 00:00:00</td>\n",
              "      <td>401.927707</td>\n",
              "      <td>0.229587</td>\n",
              "      <td>0.000000</td>\n",
              "      <td>0.000000</td>\n",
              "      <td>388091.615527</td>\n",
              "      <td>119.983601</td>\n",
              "      <td>1694.551586</td>\n",
              "      <td>0.0</td>\n",
              "      <td>592200.991913</td>\n",
              "      <td>790.974383</td>\n",
              "    </tr>\n",
              "    <tr>\n",
              "      <th>2</th>\n",
              "      <td>2023-02-19 00:00:00</td>\n",
              "      <td>576.577208</td>\n",
              "      <td>0.333210</td>\n",
              "      <td>0.000000</td>\n",
              "      <td>0.000000</td>\n",
              "      <td>385931.834694</td>\n",
              "      <td>121.258792</td>\n",
              "      <td>1692.833009</td>\n",
              "      <td>0.0</td>\n",
              "      <td>592343.366576</td>\n",
              "      <td>1140.645565</td>\n",
              "    </tr>\n",
              "    <tr>\n",
              "      <th>3</th>\n",
              "      <td>2023-02-20 00:00:00</td>\n",
              "      <td>832.880502</td>\n",
              "      <td>0.488620</td>\n",
              "      <td>0.000000</td>\n",
              "      <td>0.000000</td>\n",
              "      <td>371094.716101</td>\n",
              "      <td>130.054122</td>\n",
              "      <td>1681.050413</td>\n",
              "      <td>0.0</td>\n",
              "      <td>591376.526861</td>\n",
              "      <td>1654.274614</td>\n",
              "    </tr>\n",
              "    <tr>\n",
              "      <th>4</th>\n",
              "      <td>2023-02-21 00:00:00</td>\n",
              "      <td>1173.148691</td>\n",
              "      <td>0.669460</td>\n",
              "      <td>0.000000</td>\n",
              "      <td>0.000000</td>\n",
              "      <td>399995.391931</td>\n",
              "      <td>112.978449</td>\n",
              "      <td>1704.039283</td>\n",
              "      <td>0.0</td>\n",
              "      <td>594829.042909</td>\n",
              "      <td>2313.935062</td>\n",
              "    </tr>\n",
              "    <tr>\n",
              "      <th>5</th>\n",
              "      <td>2023-02-21 12:09:35</td>\n",
              "      <td>1364.950948</td>\n",
              "      <td>0.795217</td>\n",
              "      <td>337527.596392</td>\n",
              "      <td>131.283966</td>\n",
              "      <td>694131.426593</td>\n",
              "      <td>269.987780</td>\n",
              "      <td>1669.58249</td>\n",
              "      <td>556717.006562</td>\n",
              "      <td>1147590.928197</td>\n",
              "      <td>2692.63215</td>\n",
              "    </tr>\n",
              "    <tr>\n",
              "      <th>6</th>\n",
              "      <td>2023-02-21 12:23:23</td>\n",
              "      <td>1371.599692</td>\n",
              "      <td>0.797514</td>\n",
              "      <td>149577.425186</td>\n",
              "      <td>56.994523</td>\n",
              "      <td>849321.531479</td>\n",
              "      <td>323.622868</td>\n",
              "      <td>1671.861303</td>\n",
              "      <td>244864.362111</td>\n",
              "      <td>1393079.013173</td>\n",
              "      <td>2704.932479</td>\n",
              "    </tr>\n",
              "    <tr>\n",
              "      <th>7</th>\n",
              "      <td>2023-02-22 00:00:00</td>\n",
              "      <td>2027.858477</td>\n",
              "      <td>1.204216</td>\n",
              "      <td>0.000000</td>\n",
              "      <td>0.000000</td>\n",
              "      <td>810835.084815</td>\n",
              "      <td>346.731992</td>\n",
              "      <td>1659.007719</td>\n",
              "      <td>0.0</td>\n",
              "      <td>1390091.798208</td>\n",
              "      <td>4025.66213</td>\n",
              "    </tr>\n",
              "    <tr>\n",
              "      <th>8</th>\n",
              "      <td>2023-02-23 00:00:00</td>\n",
              "      <td>3011.712505</td>\n",
              "      <td>1.821932</td>\n",
              "      <td>0.000000</td>\n",
              "      <td>0.000000</td>\n",
              "      <td>764234.407576</td>\n",
              "      <td>374.953601</td>\n",
              "      <td>1643.51056</td>\n",
              "      <td>0.0</td>\n",
              "      <td>1386480.687099</td>\n",
              "      <td>6006.076221</td>\n",
              "    </tr>\n",
              "    <tr>\n",
              "      <th>9</th>\n",
              "      <td>2023-02-24 00:00:00</td>\n",
              "      <td>4019.368014</td>\n",
              "      <td>2.423714</td>\n",
              "      <td>0.000000</td>\n",
              "      <td>0.000000</td>\n",
              "      <td>785601.353341</td>\n",
              "      <td>361.980783</td>\n",
              "      <td>1650.607158</td>\n",
              "      <td>0.0</td>\n",
              "      <td>1391109.392231</td>\n",
              "      <td>8019.967421</td>\n",
              "    </tr>\n",
              "    <tr>\n",
              "      <th>10</th>\n",
              "      <td>2023-02-25 00:00:00</td>\n",
              "      <td>5067.616522</td>\n",
              "      <td>3.110769</td>\n",
              "      <td>0.000000</td>\n",
              "      <td>0.000000</td>\n",
              "      <td>657415.351828</td>\n",
              "      <td>440.656432</td>\n",
              "      <td>1608.26204</td>\n",
              "      <td>0.0</td>\n",
              "      <td>1376176.911687</td>\n",
              "      <td>10070.547867</td>\n",
              "    </tr>\n",
              "    <tr>\n",
              "      <th>11</th>\n",
              "      <td>2023-02-26 00:00:00</td>\n",
              "      <td>5581.845011</td>\n",
              "      <td>3.446639</td>\n",
              "      <td>0.000000</td>\n",
              "      <td>0.000000</td>\n",
              "      <td>617989.277067</td>\n",
              "      <td>465.270156</td>\n",
              "      <td>1595.348629</td>\n",
              "      <td>0.0</td>\n",
              "      <td>1371337.818702</td>\n",
              "      <td>11080.435742</td>\n",
              "    </tr>\n",
              "    <tr>\n",
              "      <th>12</th>\n",
              "      <td>2023-02-27 00:00:00</td>\n",
              "      <td>6105.848200</td>\n",
              "      <td>3.727865</td>\n",
              "      <td>0.000000</td>\n",
              "      <td>0.000000</td>\n",
              "      <td>757651.161613</td>\n",
              "      <td>378.961865</td>\n",
              "      <td>1641.327149</td>\n",
              "      <td>0.0</td>\n",
              "      <td>1391876.05362</td>\n",
              "      <td>12224.494892</td>\n",
              "    </tr>\n",
              "    <tr>\n",
              "      <th>13</th>\n",
              "      <td>2023-02-27 12:06:23</td>\n",
              "      <td>6266.706691</td>\n",
              "      <td>3.826409</td>\n",
              "      <td>0.000000</td>\n",
              "      <td>0.000000</td>\n",
              "      <td>755944.638467</td>\n",
              "      <td>380.001766</td>\n",
              "      <td>1640.728249</td>\n",
              "      <td>0.0</td>\n",
              "      <td>1391969.073341</td>\n",
              "      <td>12544.803634</td>\n",
              "    </tr>\n",
              "  </tbody>\n",
              "</table>\n",
              "</div>"
            ],
            "text/plain": [
              "                  Date    Fees USDC  Fees WETH  Liquidity USDC added   \n",
              "0  2023-02-17 16:02:47     0.000000   0.000000         363690.660090  \\\n",
              "1  2023-02-18 00:00:00   401.927707   0.229587              0.000000   \n",
              "2  2023-02-19 00:00:00   576.577208   0.333210              0.000000   \n",
              "3  2023-02-20 00:00:00   832.880502   0.488620              0.000000   \n",
              "4  2023-02-21 00:00:00  1173.148691   0.669460              0.000000   \n",
              "5  2023-02-21 12:09:35  1364.950948   0.795217         337527.596392   \n",
              "6  2023-02-21 12:23:23  1371.599692   0.797514         149577.425186   \n",
              "7  2023-02-22 00:00:00  2027.858477   1.204216              0.000000   \n",
              "8  2023-02-23 00:00:00  3011.712505   1.821932              0.000000   \n",
              "9  2023-02-24 00:00:00  4019.368014   2.423714              0.000000   \n",
              "10 2023-02-25 00:00:00  5067.616522   3.110769              0.000000   \n",
              "11 2023-02-26 00:00:00  5581.845011   3.446639              0.000000   \n",
              "12 2023-02-27 00:00:00  6105.848200   3.727865              0.000000   \n",
              "13 2023-02-27 12:06:23  6266.706691   3.826409              0.000000   \n",
              "\n",
              "    Liquidity WETH added  Liquidity USDC  Liquidity WETH Price WETH/USDC   \n",
              "0             134.466247   363690.660086      134.466247     1675.186023  \\\n",
              "1               0.000000   388091.615527      119.983601     1694.551586   \n",
              "2               0.000000   385931.834694      121.258792     1692.833009   \n",
              "3               0.000000   371094.716101      130.054122     1681.050413   \n",
              "4               0.000000   399995.391931      112.978449     1704.039283   \n",
              "5             131.283966   694131.426593      269.987780      1669.58249   \n",
              "6              56.994523   849321.531479      323.622868     1671.861303   \n",
              "7               0.000000   810835.084815      346.731992     1659.007719   \n",
              "8               0.000000   764234.407576      374.953601      1643.51056   \n",
              "9               0.000000   785601.353341      361.980783     1650.607158   \n",
              "10              0.000000   657415.351828      440.656432      1608.26204   \n",
              "11              0.000000   617989.277067      465.270156     1595.348629   \n",
              "12              0.000000   757651.161613      378.961865     1641.327149   \n",
              "13              0.000000   755944.638467      380.001766     1640.728249   \n",
              "\n",
              "   Liquidity added USDC converted Portfolio USDC converted Fees USDC converted  \n",
              "0                   588946.638251            588946.638251                 0.0  \n",
              "1                             0.0            592200.991913          790.974383  \n",
              "2                             0.0            592343.366576         1140.645565  \n",
              "3                             0.0            591376.526861         1654.274614  \n",
              "4                             0.0            594829.042909         2313.935062  \n",
              "5                   556717.006562           1147590.928197          2692.63215  \n",
              "6                   244864.362111           1393079.013173         2704.932479  \n",
              "7                             0.0           1390091.798208          4025.66213  \n",
              "8                             0.0           1386480.687099         6006.076221  \n",
              "9                             0.0           1391109.392231         8019.967421  \n",
              "10                            0.0           1376176.911687        10070.547867  \n",
              "11                            0.0           1371337.818702        11080.435742  \n",
              "12                            0.0            1391876.05362        12224.494892  \n",
              "13                            0.0           1391969.073341        12544.803634  "
            ]
          },
          "metadata": {},
          "output_type": "display_data"
        }
      ],
      "source": [
        "display(fees_daily)"
      ]
    },
    {
      "cell_type": "code",
      "execution_count": 93,
      "metadata": {
        "colab": {
          "base_uri": "https://localhost:8080/"
        },
        "id": "v-uOtrRTin6g",
        "outputId": "648e24ad-792a-4893-8553-2e4baaae2ad6"
      },
      "outputs": [
        {
          "data": {
            "text/plain": [
              "Liquidity USDC added    850795.681668\n",
              "dtype: float64"
            ]
          },
          "execution_count": 93,
          "metadata": {},
          "output_type": "execute_result"
        }
      ],
      "source": [
        "fees_daily[['Liquidity USDC added']].sum()"
      ]
    },
    {
      "cell_type": "code",
      "execution_count": 94,
      "metadata": {
        "colab": {
          "base_uri": "https://localhost:8080/"
        },
        "id": "yd3V-lsciqMY",
        "outputId": "98e72721-0864-4eaa-82c0-edc2e0bb9434"
      },
      "outputs": [
        {
          "data": {
            "text/plain": [
              "Liquidity WETH added    322.744736\n",
              "dtype: float64"
            ]
          },
          "execution_count": 94,
          "metadata": {},
          "output_type": "execute_result"
        }
      ],
      "source": [
        "fees_daily[['Liquidity WETH added']].sum()"
      ]
    },
    {
      "cell_type": "code",
      "execution_count": 95,
      "metadata": {
        "id": "T47Gw7zOisSo"
      },
      "outputs": [],
      "source": [
        "fees_daily.to_csv('443940.csv')"
      ]
    }
  ],
  "metadata": {
    "colab": {
      "provenance": []
    },
    "kernelspec": {
      "display_name": "Python 3",
      "name": "python3"
    },
    "language_info": {
      "codemirror_mode": {
        "name": "ipython",
        "version": 3
      },
      "file_extension": ".py",
      "mimetype": "text/x-python",
      "name": "python",
      "nbconvert_exporter": "python",
      "pygments_lexer": "ipython3",
      "version": "3.10.4"
    }
  },
  "nbformat": 4,
  "nbformat_minor": 0
}
